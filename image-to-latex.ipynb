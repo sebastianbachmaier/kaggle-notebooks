{
 "cells": [
  {
   "cell_type": "code",
   "execution_count": 1,
   "id": "7a5aa2d5",
   "metadata": {
    "_cell_guid": "0a0aaaff-b536-4a06-ac3b-c854e9b993c7",
    "_uuid": "6afdd249-a3a1-4bf8-b2d3-6152b8355427",
    "collapsed": false,
    "execution": {
     "iopub.execute_input": "2024-11-15T00:30:50.912680Z",
     "iopub.status.busy": "2024-11-15T00:30:50.912274Z",
     "iopub.status.idle": "2024-11-15T00:30:56.610501Z",
     "shell.execute_reply": "2024-11-15T00:30:56.609674Z"
    },
    "jupyter": {
     "outputs_hidden": false
    },
    "papermill": {
     "duration": 5.707992,
     "end_time": "2024-11-15T00:30:56.612996",
     "exception": false,
     "start_time": "2024-11-15T00:30:50.905004",
     "status": "completed"
    },
    "tags": []
   },
   "outputs": [],
   "source": [
    "from PIL import Image\n",
    "import json\n",
    "import pandas as pd\n",
    "import torch\n",
    "import torchvision\n",
    "import torchvision.transforms as T\n",
    "import torch.nn as nn\n",
    "import torch.optim as optim\n",
    "import torch.nn.functional as F\n",
    "from torch.utils.data import DataLoader\n",
    "from torch.utils.data import Dataset\n",
    "from torch.utils.data.dataloader import default_collate\n",
    "import matplotlib.pyplot as plt\n",
    "import numpy as np\n",
    "import textwrap, os\n",
    "import torchvision.transforms as transforms\n",
    "\n",
    "transform = transforms.Compose([\n",
    "    transforms.PILToTensor()\n",
    "])"
   ]
  },
  {
   "cell_type": "code",
   "execution_count": 2,
   "id": "e3b051b2",
   "metadata": {
    "execution": {
     "iopub.execute_input": "2024-11-15T00:30:56.624741Z",
     "iopub.status.busy": "2024-11-15T00:30:56.624330Z",
     "iopub.status.idle": "2024-11-15T00:30:56.629916Z",
     "shell.execute_reply": "2024-11-15T00:30:56.628135Z"
    },
    "papermill": {
     "duration": 0.027297,
     "end_time": "2024-11-15T00:30:56.645730",
     "exception": false,
     "start_time": "2024-11-15T00:30:56.618433",
     "status": "completed"
    },
    "tags": []
   },
   "outputs": [],
   "source": [
    "n_imgs = 8192\n",
    "IMG_FOLDER = '/kaggle/input/im2latex-230k/PRINTED_TEX_230k/generated_png_images/'\n",
    "max_img_width = 300\n",
    "max_img_height = 50\n",
    "formula_pad_number = 579\n",
    "max_formula_pad = 400"
   ]
  },
  {
   "cell_type": "code",
   "execution_count": 3,
   "id": "237ab809",
   "metadata": {
    "execution": {
     "iopub.execute_input": "2024-11-15T00:30:56.656907Z",
     "iopub.status.busy": "2024-11-15T00:30:56.656588Z",
     "iopub.status.idle": "2024-11-15T00:30:56.895028Z",
     "shell.execute_reply": "2024-11-15T00:30:56.893903Z"
    },
    "papermill": {
     "duration": 0.246341,
     "end_time": "2024-11-15T00:30:56.897033",
     "exception": false,
     "start_time": "2024-11-15T00:30:56.650692",
     "status": "completed"
    },
    "tags": []
   },
   "outputs": [
    {
     "name": "stdout",
     "output_type": "stream",
     "text": [
      "Running on: \n",
      "Cuda\n"
     ]
    }
   ],
   "source": [
    "print(\"Running on: \")\n",
    "if torch.cuda.is_available(): \n",
    "    dev = \"cuda:0\"\n",
    "    print(\"Cuda\")\n",
    "else:\n",
    "    dev = \"cpu\"\n",
    "    print(\"CPU\")\n",
    "device = torch.device(dev) \n",
    "a = torch.zeros(4,3) \n",
    "a = a.to(device)"
   ]
  },
  {
   "cell_type": "code",
   "execution_count": 4,
   "id": "f73ed3fb",
   "metadata": {
    "_cell_guid": "49b2295e-17be-4413-91ae-70466a23a934",
    "_uuid": "68eee98f-303c-48f9-bbcd-d273835ba80b",
    "collapsed": false,
    "execution": {
     "iopub.execute_input": "2024-11-15T00:30:56.908636Z",
     "iopub.status.busy": "2024-11-15T00:30:56.908330Z",
     "iopub.status.idle": "2024-11-15T00:30:56.977161Z",
     "shell.execute_reply": "2024-11-15T00:30:56.976386Z"
    },
    "jupyter": {
     "outputs_hidden": false
    },
    "papermill": {
     "duration": 0.076915,
     "end_time": "2024-11-15T00:30:56.979200",
     "exception": false,
     "start_time": "2024-11-15T00:30:56.902285",
     "status": "completed"
    },
    "tags": []
   },
   "outputs": [],
   "source": [
    "with open('/kaggle/input/im2latex-230k/PRINTED_TEX_230k/230k.json') as file:\n",
    "    json230k = json.load(file)\n",
    "    file.close()\n",
    "with open('/kaggle/input/im2latex-230k/PRINTED_TEX_230k/corresponding_png_images.txt') as file:\n",
    "    img_files = [next(file).strip() for _ in range(n_imgs)]\n",
    "    file.close()\n",
    "with open('/kaggle/input/im2latex-230k/PRINTED_TEX_230k/final_png_formulas.txt') as file:\n",
    "    formulas_raw = [next(file).strip().replace(' ','') for _ in range(n_imgs)]\n",
    "    file.close()"
   ]
  },
  {
   "cell_type": "code",
   "execution_count": 5,
   "id": "b92a6e5a",
   "metadata": {
    "_cell_guid": "5a590251-0f3a-41cc-8344-9c45e23dc3ff",
    "_uuid": "5146e3a6-7135-427c-8695-a3671fd8221b",
    "collapsed": false,
    "execution": {
     "iopub.execute_input": "2024-11-15T00:30:56.991937Z",
     "iopub.status.busy": "2024-11-15T00:30:56.991315Z",
     "iopub.status.idle": "2024-11-15T00:30:56.997059Z",
     "shell.execute_reply": "2024-11-15T00:30:56.996221Z"
    },
    "jupyter": {
     "outputs_hidden": false
    },
    "papermill": {
     "duration": 0.013641,
     "end_time": "2024-11-15T00:30:56.999047",
     "exception": false,
     "start_time": "2024-11-15T00:30:56.985406",
     "status": "completed"
    },
    "tags": []
   },
   "outputs": [],
   "source": [
    "def convertFormulaToTokens(formula_raw):\n",
    "    formula = []\n",
    "    while formula_raw != '':\n",
    "        replaced = 0\n",
    "        for key, value in json230k.items():\n",
    "            if formula_raw.startswith(key):\n",
    "                formula.append(int(value))\n",
    "                formula_raw = formula_raw.removeprefix(key)\n",
    "                replaced = 1\n",
    "                exit\n",
    "        if replaced == 0:\n",
    "            print(\"potential key error\")\n",
    "            return formula\n",
    "            #raise ValueError('Didnt find a key for '+formula_raw) \n",
    "    return formula"
   ]
  },
  {
   "cell_type": "code",
   "execution_count": 6,
   "id": "93c4c271",
   "metadata": {
    "_cell_guid": "752f42eb-a5d2-4a48-80ac-7426cc973ee5",
    "_uuid": "a51c8891-8303-4877-bf12-991f7d99a17e",
    "collapsed": false,
    "execution": {
     "iopub.execute_input": "2024-11-15T00:30:57.010220Z",
     "iopub.status.busy": "2024-11-15T00:30:57.009946Z",
     "iopub.status.idle": "2024-11-15T00:30:57.014581Z",
     "shell.execute_reply": "2024-11-15T00:30:57.013738Z"
    },
    "jupyter": {
     "outputs_hidden": false
    },
    "papermill": {
     "duration": 0.012283,
     "end_time": "2024-11-15T00:30:57.016497",
     "exception": false,
     "start_time": "2024-11-15T00:30:57.004214",
     "status": "completed"
    },
    "scrolled": true,
    "tags": []
   },
   "outputs": [],
   "source": [
    "def convertTokensToFormula(formula):\n",
    "    formula_raw = ''\n",
    "    for idx, token in enumerate(formula):\n",
    "        for key, value in json230k.items():\n",
    "            if token == value:\n",
    "                formula_raw = formula_raw + key\n",
    "    return formula_raw"
   ]
  },
  {
   "cell_type": "code",
   "execution_count": 7,
   "id": "8d683f32",
   "metadata": {
    "execution": {
     "iopub.execute_input": "2024-11-15T00:30:57.027656Z",
     "iopub.status.busy": "2024-11-15T00:30:57.027383Z",
     "iopub.status.idle": "2024-11-15T00:30:57.032271Z",
     "shell.execute_reply": "2024-11-15T00:30:57.031420Z"
    },
    "papermill": {
     "duration": 0.012501,
     "end_time": "2024-11-15T00:30:57.034089",
     "exception": false,
     "start_time": "2024-11-15T00:30:57.021588",
     "status": "completed"
    },
    "tags": []
   },
   "outputs": [],
   "source": [
    "def load_and_transform_image(file):\n",
    "    raw_img = Image.open(IMG_FOLDER + file).convert('L')\n",
    "    img = Image.new(raw_img.mode, (max_img_width, max_img_height), \"white\")\n",
    "    img.paste(raw_img, (0, 0))\n",
    "    return img\n",
    "    "
   ]
  },
  {
   "cell_type": "code",
   "execution_count": 8,
   "id": "ae6ab426",
   "metadata": {
    "execution": {
     "iopub.execute_input": "2024-11-15T00:30:57.045264Z",
     "iopub.status.busy": "2024-11-15T00:30:57.044735Z",
     "iopub.status.idle": "2024-11-15T00:32:11.633714Z",
     "shell.execute_reply": "2024-11-15T00:32:11.632654Z"
    },
    "papermill": {
     "duration": 74.597185,
     "end_time": "2024-11-15T00:32:11.636222",
     "exception": false,
     "start_time": "2024-11-15T00:30:57.039037",
     "status": "completed"
    },
    "tags": []
   },
   "outputs": [
    {
     "name": "stdout",
     "output_type": "stream",
     "text": [
      "potential key error\n",
      "potential key error\n",
      "potential key error\n",
      "potential key error\n"
     ]
    }
   ],
   "source": [
    "data = torch.stack([transform(load_and_transform_image(img))/256 for img in img_files]).to(device)\n",
    "labels_without_padding = [torch.tensor(convertFormulaToTokens(f)).float() for f in formulas_raw]\n",
    "labels = torch.stack([nn.functional.pad(x, pad=(0, max_formula_pad - len(x)), mode='constant', value=formula_pad_number) for x in labels_without_padding]).to(device)"
   ]
  },
  {
   "cell_type": "code",
   "execution_count": 9,
   "id": "9dad1270",
   "metadata": {
    "execution": {
     "iopub.execute_input": "2024-11-15T00:32:11.649638Z",
     "iopub.status.busy": "2024-11-15T00:32:11.649313Z",
     "iopub.status.idle": "2024-11-15T00:32:11.656781Z",
     "shell.execute_reply": "2024-11-15T00:32:11.655936Z"
    },
    "papermill": {
     "duration": 0.016867,
     "end_time": "2024-11-15T00:32:11.658757",
     "exception": false,
     "start_time": "2024-11-15T00:32:11.641890",
     "status": "completed"
    },
    "tags": []
   },
   "outputs": [
    {
     "data": {
      "text/plain": [
       "torch.Size([8192, 1, 50, 300])"
      ]
     },
     "execution_count": 9,
     "metadata": {},
     "output_type": "execute_result"
    }
   ],
   "source": [
    "data.shape"
   ]
  },
  {
   "cell_type": "code",
   "execution_count": 10,
   "id": "ae95b577",
   "metadata": {
    "_cell_guid": "66f439a8-e160-41ae-abc4-19137c25d604",
    "_uuid": "2c11b2a4-91a0-4474-88d5-fd5175255a1c",
    "execution": {
     "iopub.execute_input": "2024-11-15T00:32:11.670715Z",
     "iopub.status.busy": "2024-11-15T00:32:11.670423Z",
     "iopub.status.idle": "2024-11-15T00:32:11.677752Z",
     "shell.execute_reply": "2024-11-15T00:32:11.676997Z"
    },
    "papermill": {
     "duration": 0.015421,
     "end_time": "2024-11-15T00:32:11.679579",
     "exception": false,
     "start_time": "2024-11-15T00:32:11.664158",
     "status": "completed"
    },
    "scrolled": true,
    "tags": []
   },
   "outputs": [],
   "source": [
    "class Net(nn.Module):\n",
    "    def __init__(self):\n",
    "        super(Net, self).__init__()\n",
    "        self.block1 = nn.Sequential(\n",
    "            nn.LazyConv2d(20, kernel_size=5),\n",
    "            nn.GELU(),\n",
    "            nn.LazyConv2d(10, kernel_size=5),\n",
    "            nn.GELU(),\n",
    "            nn.Dropout(),\n",
    "            nn.LazyConv2d(20, kernel_size=5),\n",
    "            nn.GELU(),\n",
    "            nn.LazyBatchNorm2d()\n",
    "        )\n",
    "        self.block2 = nn.Sequential(\n",
    "            nn.Flatten(),\n",
    "            nn.LazyLinear(1000),\n",
    "            nn.GELU(),\n",
    "            nn.Dropout(),\n",
    "            nn.LazyLinear(1000),\n",
    "            nn.GELU(),\n",
    "            nn.LazyLinear(max_formula_pad)\n",
    "        )\n",
    "    \n",
    "    def forward(self, x):\n",
    "        out = x\n",
    "        out = self.block1(out)\n",
    "        out = self.block2(out)\n",
    "        return out"
   ]
  },
  {
   "cell_type": "code",
   "execution_count": 11,
   "id": "488d00b0",
   "metadata": {
    "_cell_guid": "bd81c6e2-516d-4140-8b3a-9ad633b045b3",
    "_kg_hide-input": false,
    "_uuid": "8b3d13e5-22b1-4a17-a9e9-5680463642b8",
    "collapsed": false,
    "execution": {
     "iopub.execute_input": "2024-11-15T00:32:11.691424Z",
     "iopub.status.busy": "2024-11-15T00:32:11.691139Z",
     "iopub.status.idle": "2024-11-15T00:32:11.703130Z",
     "shell.execute_reply": "2024-11-15T00:32:11.702270Z"
    },
    "jupyter": {
     "outputs_hidden": false
    },
    "papermill": {
     "duration": 0.019965,
     "end_time": "2024-11-15T00:32:11.704924",
     "exception": false,
     "start_time": "2024-11-15T00:32:11.684959",
     "status": "completed"
    },
    "tags": []
   },
   "outputs": [
    {
     "data": {
      "text/plain": [
       "<torch._C.Generator at 0x7faae819ecf0>"
      ]
     },
     "execution_count": 11,
     "metadata": {},
     "output_type": "execute_result"
    }
   ],
   "source": [
    "n_epochs = 10\n",
    "batch_size_train = 64\n",
    "learning_rate = 3e-4\n",
    "momentum = 0.8\n",
    "log_interval = 10\n",
    "\n",
    "random_seed = 1\n",
    "torch.backends.cudnn.enabled = False\n",
    "torch.manual_seed(random_seed)"
   ]
  },
  {
   "cell_type": "code",
   "execution_count": 12,
   "id": "4f31f611",
   "metadata": {
    "_cell_guid": "c58c1dbe-b304-472b-8f12-e6b50bb1c82f",
    "_uuid": "7f228c2b-9151-46cd-9e18-931973f9ebae",
    "collapsed": false,
    "execution": {
     "iopub.execute_input": "2024-11-15T00:32:11.717342Z",
     "iopub.status.busy": "2024-11-15T00:32:11.717050Z",
     "iopub.status.idle": "2024-11-15T00:32:11.727095Z",
     "shell.execute_reply": "2024-11-15T00:32:11.726384Z"
    },
    "jupyter": {
     "outputs_hidden": false
    },
    "papermill": {
     "duration": 0.018415,
     "end_time": "2024-11-15T00:32:11.728975",
     "exception": false,
     "start_time": "2024-11-15T00:32:11.710560",
     "status": "completed"
    },
    "tags": []
   },
   "outputs": [],
   "source": [
    "network = Net()\n",
    "network.to(device)\n",
    "optimizer = optim.Adam(network.parameters(), lr=learning_rate)"
   ]
  },
  {
   "cell_type": "code",
   "execution_count": 13,
   "id": "1dda63b7",
   "metadata": {
    "execution": {
     "iopub.execute_input": "2024-11-15T00:32:11.741334Z",
     "iopub.status.busy": "2024-11-15T00:32:11.741067Z",
     "iopub.status.idle": "2024-11-15T00:32:11.745566Z",
     "shell.execute_reply": "2024-11-15T00:32:11.744692Z"
    },
    "papermill": {
     "duration": 0.01293,
     "end_time": "2024-11-15T00:32:11.747521",
     "exception": false,
     "start_time": "2024-11-15T00:32:11.734591",
     "status": "completed"
    },
    "tags": []
   },
   "outputs": [],
   "source": [
    "train_loader = DataLoader(torch.utils.data.TensorDataset(data, labels), batch_size=batch_size_train, shuffle=True)"
   ]
  },
  {
   "cell_type": "code",
   "execution_count": 14,
   "id": "f97867a8",
   "metadata": {
    "_cell_guid": "692f3c26-e258-4fc1-96df-e922ef9eb3fc",
    "_uuid": "c5763e9c-caa8-4072-af1b-5f924c16375d",
    "collapsed": false,
    "execution": {
     "iopub.execute_input": "2024-11-15T00:32:11.760332Z",
     "iopub.status.busy": "2024-11-15T00:32:11.759779Z",
     "iopub.status.idle": "2024-11-15T00:32:11.763721Z",
     "shell.execute_reply": "2024-11-15T00:32:11.762938Z"
    },
    "jupyter": {
     "outputs_hidden": false
    },
    "papermill": {
     "duration": 0.012456,
     "end_time": "2024-11-15T00:32:11.765670",
     "exception": false,
     "start_time": "2024-11-15T00:32:11.753214",
     "status": "completed"
    },
    "tags": []
   },
   "outputs": [],
   "source": [
    "train_losses = []\n",
    "train_counter = []\n",
    "test_losses = []\n",
    "test_counter = []"
   ]
  },
  {
   "cell_type": "code",
   "execution_count": 15,
   "id": "1756457e",
   "metadata": {
    "_cell_guid": "8219c4a2-ec3c-4de9-a1ec-b490de14aaa6",
    "_uuid": "655b0f6b-df9e-4e58-a5fe-a89acfcea8cf",
    "collapsed": false,
    "execution": {
     "iopub.execute_input": "2024-11-15T00:32:11.779107Z",
     "iopub.status.busy": "2024-11-15T00:32:11.778437Z",
     "iopub.status.idle": "2024-11-15T00:32:11.785838Z",
     "shell.execute_reply": "2024-11-15T00:32:11.785003Z"
    },
    "jupyter": {
     "outputs_hidden": false
    },
    "papermill": {
     "duration": 0.015988,
     "end_time": "2024-11-15T00:32:11.787633",
     "exception": false,
     "start_time": "2024-11-15T00:32:11.771645",
     "status": "completed"
    },
    "tags": []
   },
   "outputs": [],
   "source": [
    "def train(epoch):\n",
    "    network.train()\n",
    "    for batch_idx, (data, target) in enumerate(train_loader):\n",
    "        optimizer.zero_grad()\n",
    "        output = network(data)\n",
    "        loss = F.mse_loss(output, target)\n",
    "        loss.backward()\n",
    "        optimizer.step()\n",
    "        if batch_idx % log_interval == 0:\n",
    "            print('Train Epoch: {} [{}/{} ({:.0f}%)]\\tLoss: {:.6f}'.format(\n",
    "                epoch, batch_idx * len(data),\n",
    "                len(train_loader.dataset),\n",
    "                100. * batch_idx / len(train_loader),\n",
    "                loss.item()\n",
    "            ))\n",
    "            train_losses.append(loss.item())\n",
    "            train_counter.append(\n",
    "                (batch_idx*batch_size_train) + ((epoch-1)*len(train_loader.dataset))\n",
    "            )\n",
    "            torch.save(network.state_dict(), '/kaggle/working/model.pth')\n",
    "            torch.save(optimizer.state_dict(), '/kaggle/working/optimizer.pth')"
   ]
  },
  {
   "cell_type": "code",
   "execution_count": 16,
   "id": "a5fdc489",
   "metadata": {
    "_cell_guid": "8f7b9747-6326-4062-8f43-c009665de375",
    "_uuid": "f614ec62-0010-46b2-82ed-5222dbb53a81",
    "collapsed": false,
    "execution": {
     "iopub.execute_input": "2024-11-15T00:32:11.800828Z",
     "iopub.status.busy": "2024-11-15T00:32:11.800198Z",
     "iopub.status.idle": "2024-11-15T01:04:30.076097Z",
     "shell.execute_reply": "2024-11-15T01:04:30.075243Z"
    },
    "jupyter": {
     "outputs_hidden": false
    },
    "papermill": {
     "duration": 1938.285237,
     "end_time": "2024-11-15T01:04:30.078691",
     "exception": false,
     "start_time": "2024-11-15T00:32:11.793454",
     "status": "completed"
    },
    "tags": []
   },
   "outputs": [
    {
     "name": "stdout",
     "output_type": "stream",
     "text": [
      "Train Epoch: 1 [0/8192 (0%)]\tLoss: 308483.312500\n",
      "Train Epoch: 1 [640/8192 (8%)]\tLoss: 229372.953125\n",
      "Train Epoch: 1 [1280/8192 (16%)]\tLoss: 55073.867188\n",
      "Train Epoch: 1 [1920/8192 (23%)]\tLoss: 35771.800781\n",
      "Train Epoch: 1 [2560/8192 (31%)]\tLoss: 41402.589844\n",
      "Train Epoch: 1 [3200/8192 (39%)]\tLoss: 26258.984375\n",
      "Train Epoch: 1 [3840/8192 (47%)]\tLoss: 26251.396484\n",
      "Train Epoch: 1 [4480/8192 (55%)]\tLoss: 24083.445312\n",
      "Train Epoch: 1 [5120/8192 (62%)]\tLoss: 21970.855469\n",
      "Train Epoch: 1 [5760/8192 (70%)]\tLoss: 22866.593750\n",
      "Train Epoch: 1 [6400/8192 (78%)]\tLoss: 20078.335938\n",
      "Train Epoch: 1 [7040/8192 (86%)]\tLoss: 23846.554688\n",
      "Train Epoch: 1 [7680/8192 (94%)]\tLoss: 19042.662109\n",
      "Train Epoch: 2 [0/8192 (0%)]\tLoss: 21900.519531\n",
      "Train Epoch: 2 [640/8192 (8%)]\tLoss: 20130.787109\n",
      "Train Epoch: 2 [1280/8192 (16%)]\tLoss: 22241.628906\n",
      "Train Epoch: 2 [1920/8192 (23%)]\tLoss: 19913.730469\n",
      "Train Epoch: 2 [2560/8192 (31%)]\tLoss: 17778.085938\n",
      "Train Epoch: 2 [3200/8192 (39%)]\tLoss: 24243.673828\n",
      "Train Epoch: 2 [3840/8192 (47%)]\tLoss: 17073.914062\n",
      "Train Epoch: 2 [4480/8192 (55%)]\tLoss: 18040.296875\n",
      "Train Epoch: 2 [5120/8192 (62%)]\tLoss: 24044.871094\n",
      "Train Epoch: 2 [5760/8192 (70%)]\tLoss: 21059.199219\n",
      "Train Epoch: 2 [6400/8192 (78%)]\tLoss: 27420.683594\n",
      "Train Epoch: 2 [7040/8192 (86%)]\tLoss: 24476.064453\n",
      "Train Epoch: 2 [7680/8192 (94%)]\tLoss: 21968.683594\n",
      "Train Epoch: 3 [0/8192 (0%)]\tLoss: 21571.662109\n",
      "Train Epoch: 3 [640/8192 (8%)]\tLoss: 21588.212891\n",
      "Train Epoch: 3 [1280/8192 (16%)]\tLoss: 18457.484375\n",
      "Train Epoch: 3 [1920/8192 (23%)]\tLoss: 19485.605469\n",
      "Train Epoch: 3 [2560/8192 (31%)]\tLoss: 17091.939453\n",
      "Train Epoch: 3 [3200/8192 (39%)]\tLoss: 19516.589844\n",
      "Train Epoch: 3 [3840/8192 (47%)]\tLoss: 18566.322266\n",
      "Train Epoch: 3 [4480/8192 (55%)]\tLoss: 17078.841797\n",
      "Train Epoch: 3 [5120/8192 (62%)]\tLoss: 22295.974609\n",
      "Train Epoch: 3 [5760/8192 (70%)]\tLoss: 21807.605469\n",
      "Train Epoch: 3 [6400/8192 (78%)]\tLoss: 26028.367188\n",
      "Train Epoch: 3 [7040/8192 (86%)]\tLoss: 23522.160156\n",
      "Train Epoch: 3 [7680/8192 (94%)]\tLoss: 18494.857422\n",
      "Train Epoch: 4 [0/8192 (0%)]\tLoss: 21146.109375\n",
      "Train Epoch: 4 [640/8192 (8%)]\tLoss: 19847.351562\n",
      "Train Epoch: 4 [1280/8192 (16%)]\tLoss: 18455.669922\n",
      "Train Epoch: 4 [1920/8192 (23%)]\tLoss: 17613.656250\n",
      "Train Epoch: 4 [2560/8192 (31%)]\tLoss: 19209.289062\n",
      "Train Epoch: 4 [3200/8192 (39%)]\tLoss: 19162.406250\n",
      "Train Epoch: 4 [3840/8192 (47%)]\tLoss: 18469.414062\n",
      "Train Epoch: 4 [4480/8192 (55%)]\tLoss: 17159.601562\n",
      "Train Epoch: 4 [5120/8192 (62%)]\tLoss: 18825.845703\n",
      "Train Epoch: 4 [5760/8192 (70%)]\tLoss: 17235.804688\n",
      "Train Epoch: 4 [6400/8192 (78%)]\tLoss: 17222.939453\n",
      "Train Epoch: 4 [7040/8192 (86%)]\tLoss: 16557.640625\n",
      "Train Epoch: 4 [7680/8192 (94%)]\tLoss: 18211.677734\n",
      "Train Epoch: 5 [0/8192 (0%)]\tLoss: 20647.466797\n",
      "Train Epoch: 5 [640/8192 (8%)]\tLoss: 17654.173828\n",
      "Train Epoch: 5 [1280/8192 (16%)]\tLoss: 18252.763672\n",
      "Train Epoch: 5 [1920/8192 (23%)]\tLoss: 18370.205078\n",
      "Train Epoch: 5 [2560/8192 (31%)]\tLoss: 15820.754883\n",
      "Train Epoch: 5 [3200/8192 (39%)]\tLoss: 18246.361328\n",
      "Train Epoch: 5 [3840/8192 (47%)]\tLoss: 19214.595703\n",
      "Train Epoch: 5 [4480/8192 (55%)]\tLoss: 20359.857422\n",
      "Train Epoch: 5 [5120/8192 (62%)]\tLoss: 18753.197266\n",
      "Train Epoch: 5 [5760/8192 (70%)]\tLoss: 18305.445312\n",
      "Train Epoch: 5 [6400/8192 (78%)]\tLoss: 15818.702148\n",
      "Train Epoch: 5 [7040/8192 (86%)]\tLoss: 20579.054688\n",
      "Train Epoch: 5 [7680/8192 (94%)]\tLoss: 16531.974609\n",
      "Train Epoch: 6 [0/8192 (0%)]\tLoss: 15198.894531\n",
      "Train Epoch: 6 [640/8192 (8%)]\tLoss: 19260.628906\n",
      "Train Epoch: 6 [1280/8192 (16%)]\tLoss: 18384.214844\n",
      "Train Epoch: 6 [1920/8192 (23%)]\tLoss: 17849.056641\n",
      "Train Epoch: 6 [2560/8192 (31%)]\tLoss: 17170.697266\n",
      "Train Epoch: 6 [3200/8192 (39%)]\tLoss: 18830.888672\n",
      "Train Epoch: 6 [3840/8192 (47%)]\tLoss: 15527.167969\n",
      "Train Epoch: 6 [4480/8192 (55%)]\tLoss: 17468.201172\n",
      "Train Epoch: 6 [5120/8192 (62%)]\tLoss: 23862.228516\n",
      "Train Epoch: 6 [5760/8192 (70%)]\tLoss: 17795.906250\n",
      "Train Epoch: 6 [6400/8192 (78%)]\tLoss: 18234.677734\n",
      "Train Epoch: 6 [7040/8192 (86%)]\tLoss: 18854.548828\n",
      "Train Epoch: 6 [7680/8192 (94%)]\tLoss: 17329.898438\n",
      "Train Epoch: 7 [0/8192 (0%)]\tLoss: 16819.617188\n",
      "Train Epoch: 7 [640/8192 (8%)]\tLoss: 16766.732422\n",
      "Train Epoch: 7 [1280/8192 (16%)]\tLoss: 16401.767578\n",
      "Train Epoch: 7 [1920/8192 (23%)]\tLoss: 16925.748047\n",
      "Train Epoch: 7 [2560/8192 (31%)]\tLoss: 17475.539062\n",
      "Train Epoch: 7 [3200/8192 (39%)]\tLoss: 17204.773438\n",
      "Train Epoch: 7 [3840/8192 (47%)]\tLoss: 21458.121094\n",
      "Train Epoch: 7 [4480/8192 (55%)]\tLoss: 16027.277344\n",
      "Train Epoch: 7 [5120/8192 (62%)]\tLoss: 18315.289062\n",
      "Train Epoch: 7 [5760/8192 (70%)]\tLoss: 15714.483398\n",
      "Train Epoch: 7 [6400/8192 (78%)]\tLoss: 20060.978516\n",
      "Train Epoch: 7 [7040/8192 (86%)]\tLoss: 16404.681641\n",
      "Train Epoch: 7 [7680/8192 (94%)]\tLoss: 17827.365234\n",
      "Train Epoch: 8 [0/8192 (0%)]\tLoss: 17353.500000\n",
      "Train Epoch: 8 [640/8192 (8%)]\tLoss: 17346.302734\n",
      "Train Epoch: 8 [1280/8192 (16%)]\tLoss: 18279.736328\n",
      "Train Epoch: 8 [1920/8192 (23%)]\tLoss: 24186.552734\n",
      "Train Epoch: 8 [2560/8192 (31%)]\tLoss: 16896.431641\n",
      "Train Epoch: 8 [3200/8192 (39%)]\tLoss: 15050.272461\n",
      "Train Epoch: 8 [3840/8192 (47%)]\tLoss: 18866.623047\n",
      "Train Epoch: 8 [4480/8192 (55%)]\tLoss: 17580.222656\n",
      "Train Epoch: 8 [5120/8192 (62%)]\tLoss: 15644.647461\n",
      "Train Epoch: 8 [5760/8192 (70%)]\tLoss: 16243.699219\n",
      "Train Epoch: 8 [6400/8192 (78%)]\tLoss: 17949.261719\n",
      "Train Epoch: 8 [7040/8192 (86%)]\tLoss: 16433.119141\n",
      "Train Epoch: 8 [7680/8192 (94%)]\tLoss: 18168.689453\n",
      "Train Epoch: 9 [0/8192 (0%)]\tLoss: 16025.034180\n",
      "Train Epoch: 9 [640/8192 (8%)]\tLoss: 15076.986328\n",
      "Train Epoch: 9 [1280/8192 (16%)]\tLoss: 17631.865234\n",
      "Train Epoch: 9 [1920/8192 (23%)]\tLoss: 15959.187500\n",
      "Train Epoch: 9 [2560/8192 (31%)]\tLoss: 16500.251953\n",
      "Train Epoch: 9 [3200/8192 (39%)]\tLoss: 16411.367188\n",
      "Train Epoch: 9 [3840/8192 (47%)]\tLoss: 16628.296875\n",
      "Train Epoch: 9 [4480/8192 (55%)]\tLoss: 18168.583984\n",
      "Train Epoch: 9 [5120/8192 (62%)]\tLoss: 15606.989258\n",
      "Train Epoch: 9 [5760/8192 (70%)]\tLoss: 15748.239258\n",
      "Train Epoch: 9 [6400/8192 (78%)]\tLoss: 19290.583984\n",
      "Train Epoch: 9 [7040/8192 (86%)]\tLoss: 18632.830078\n",
      "Train Epoch: 9 [7680/8192 (94%)]\tLoss: 15534.452148\n",
      "Train Epoch: 10 [0/8192 (0%)]\tLoss: 15246.357422\n",
      "Train Epoch: 10 [640/8192 (8%)]\tLoss: 15172.380859\n",
      "Train Epoch: 10 [1280/8192 (16%)]\tLoss: 18043.259766\n",
      "Train Epoch: 10 [1920/8192 (23%)]\tLoss: 17400.562500\n",
      "Train Epoch: 10 [2560/8192 (31%)]\tLoss: 15685.250977\n",
      "Train Epoch: 10 [3200/8192 (39%)]\tLoss: 17615.923828\n",
      "Train Epoch: 10 [3840/8192 (47%)]\tLoss: 16238.284180\n",
      "Train Epoch: 10 [4480/8192 (55%)]\tLoss: 19292.810547\n",
      "Train Epoch: 10 [5120/8192 (62%)]\tLoss: 17458.220703\n",
      "Train Epoch: 10 [5760/8192 (70%)]\tLoss: 16203.946289\n",
      "Train Epoch: 10 [6400/8192 (78%)]\tLoss: 17439.990234\n",
      "Train Epoch: 10 [7040/8192 (86%)]\tLoss: 16956.876953\n",
      "Train Epoch: 10 [7680/8192 (94%)]\tLoss: 15710.322266\n"
     ]
    }
   ],
   "source": [
    "for epoch in range(1,n_epochs+1):\n",
    "    train(epoch)\n"
   ]
  },
  {
   "cell_type": "code",
   "execution_count": 17,
   "id": "73160179",
   "metadata": {
    "execution": {
     "iopub.execute_input": "2024-11-15T01:04:30.111688Z",
     "iopub.status.busy": "2024-11-15T01:04:30.111340Z",
     "iopub.status.idle": "2024-11-15T01:04:30.382957Z",
     "shell.execute_reply": "2024-11-15T01:04:30.382001Z"
    },
    "papermill": {
     "duration": 0.290351,
     "end_time": "2024-11-15T01:04:30.385006",
     "exception": false,
     "start_time": "2024-11-15T01:04:30.094655",
     "status": "completed"
    },
    "tags": []
   },
   "outputs": [
    {
     "data": {
      "text/plain": [
       "Text(0, 0.5, 'negative log likelihood loss')"
      ]
     },
     "execution_count": 17,
     "metadata": {},
     "output_type": "execute_result"
    },
    {
     "data": {
      "image/png": "[encoded data removed]",
      "text/plain": [
       "<Figure size 640x480 with 1 Axes>"
      ]
     },
     "metadata": {},
     "output_type": "display_data"
    }
   ],
   "source": [
    "fig = plt.figure()\n",
    "plt.plot(train_counter, train_losses, color='blue')\n",
    "plt.legend(['Train Loss'], loc='upper right')\n",
    "plt.xlabel('number of training examples seen')\n",
    "plt.ylabel('negative log likelihood loss')"
   ]
  }
 ],
 "metadata": {
  "kaggle": {
   "accelerator": "gpu",
   "dataSources": [
    {
     "datasetId": 3007389,
     "sourceId": 5173903,
     "sourceType": "datasetVersion"
    }
   ],
   "dockerImageVersionId": 30786,
   "isGpuEnabled": true,
   "isInternetEnabled": true,
   "language": "python",
   "sourceType": "notebook"
  },
  "kernelspec": {
   "display_name": "Python 3",
   "language": "python",
   "name": "python3"
  },
  "language_info": {
   "codemirror_mode": {
    "name": "ipython",
    "version": 3
   },
   "file_extension": ".py",
   "mimetype": "text/x-python",
   "name": "python",
   "nbconvert_exporter": "python",
   "pygments_lexer": "ipython3",
   "version": "3.10.14"
  },
  "papermill": {
   "default_parameters": {},
   "duration": 2024.532163,
   "end_time": "2024-11-15T01:04:32.657667",
   "environment_variables": {},
   "exception": null,
   "input_path": "__notebook__.ipynb",
   "output_path": "__notebook__.ipynb",
   "parameters": {},
   "start_time": "2024-11-15T00:30:48.125504",
   "version": "2.6.0"
  }
 },
 "nbformat": 4,
 "nbformat_minor": 5
}
