{
 "cells": [
  {
   "cell_type": "code",
   "execution_count": 1,
   "id": "564b1487",
   "metadata": {
    "_cell_guid": "b1076dfc-b9ad-4769-8c92-a6c4dae69d19",
    "_uuid": "8f2839f25d086af736a60e9eeb907d3b93b6e0e5",
    "execution": {
     "iopub.execute_input": "2024-11-10T23:23:03.153934Z",
     "iopub.status.busy": "2024-11-10T23:23:03.153563Z",
     "iopub.status.idle": "2024-11-10T23:23:09.147129Z",
     "shell.execute_reply": "2024-11-10T23:23:09.146323Z"
    },
    "papermill": {
     "duration": 6.004891,
     "end_time": "2024-11-10T23:23:09.149645",
     "exception": false,
     "start_time": "2024-11-10T23:23:03.144754",
     "status": "completed"
    },
    "tags": []
   },
   "outputs": [],
   "source": [
    "# This Python 3 environment comes with many helpful analytics libraries installed\n",
    "# It is defined by the kaggle/python Docker image: https://github.com/kaggle/docker-python\n",
    "# For example, here's several helpful packages to load\n",
    "\n",
    "import numpy as np # linear algebra\n",
    "import pandas as pd # data processing, CSV file I/O (e.g. pd.read_csv)\n",
    "import torch\n",
    "from torchvision import transforms\n",
    "from PIL import Image\n",
    "import os\n",
    "from torch.utils.data import DataLoader\n",
    "from torch.utils.data import Dataset\n",
    "import matplotlib.pyplot as plt\n",
    "\n",
    "# Input data files are available in the read-only \"../input/\" directory\n",
    "# For example, running this (by clicking run or pressing Shift+Enter) will list all files under the input director\n",
    "        \n",
    "\n",
    "# You can write up to 20GB to the current directory (/kaggle/working/) that gets preserved as output when you create a version using \"Save & Run All\" \n",
    "# You can also write temporary files to /kaggle/temp/, but they won't be saved outside of the current session"
   ]
  },
  {
   "cell_type": "code",
   "execution_count": 2,
   "id": "d2282f88",
   "metadata": {
    "execution": {
     "iopub.execute_input": "2024-11-10T23:23:09.164196Z",
     "iopub.status.busy": "2024-11-10T23:23:09.163737Z",
     "iopub.status.idle": "2024-11-10T23:23:09.168878Z",
     "shell.execute_reply": "2024-11-10T23:23:09.167950Z"
    },
    "papermill": {
     "duration": 0.014564,
     "end_time": "2024-11-10T23:23:09.170956",
     "exception": false,
     "start_time": "2024-11-10T23:23:09.156392",
     "status": "completed"
    },
    "tags": []
   },
   "outputs": [],
   "source": [
    "import torch\n",
    "import torch.nn as nn\n",
    "import torch.nn.functional as F\n",
    "import torch.optim as optim\n",
    "from torch.utils.data.dataloader import default_collate"
   ]
  },
  {
   "cell_type": "code",
   "execution_count": 3,
   "id": "01d5c890",
   "metadata": {
    "execution": {
     "iopub.execute_input": "2024-11-10T23:23:09.184569Z",
     "iopub.status.busy": "2024-11-10T23:23:09.184232Z",
     "iopub.status.idle": "2024-11-10T23:23:09.410503Z",
     "shell.execute_reply": "2024-11-10T23:23:09.409466Z"
    },
    "papermill": {
     "duration": 0.235748,
     "end_time": "2024-11-10T23:23:09.412863",
     "exception": false,
     "start_time": "2024-11-10T23:23:09.177115",
     "status": "completed"
    },
    "tags": []
   },
   "outputs": [
    {
     "name": "stdout",
     "output_type": "stream",
     "text": [
      "Running on: \n",
      "Cuda\n"
     ]
    }
   ],
   "source": [
    "print(\"Running on: \")\n",
    "if torch.cuda.is_available(): \n",
    "    dev = \"cuda:0\"\n",
    "    print(\"Cuda\")\n",
    "else:\n",
    "    dev = \"cpu\"\n",
    "    print(\"CPU\")\n",
    "device = torch.device(dev) \n",
    "a = torch.zeros(4,3) \n",
    "a = a.to(device)"
   ]
  },
  {
   "cell_type": "code",
   "execution_count": 4,
   "id": "08e1c4bf",
   "metadata": {
    "execution": {
     "iopub.execute_input": "2024-11-10T23:23:09.428725Z",
     "iopub.status.busy": "2024-11-10T23:23:09.427853Z",
     "iopub.status.idle": "2024-11-10T23:23:09.929157Z",
     "shell.execute_reply": "2024-11-10T23:23:09.928157Z"
    },
    "papermill": {
     "duration": 0.511175,
     "end_time": "2024-11-10T23:23:09.931657",
     "exception": false,
     "start_time": "2024-11-10T23:23:09.420482",
     "status": "completed"
    },
    "tags": []
   },
   "outputs": [],
   "source": [
    "labels = []\n",
    "files = []\n",
    "for dirname, _, fnames in os.walk('/kaggle/input/fruit-and-vegetable-image-recognition/train'):\n",
    "    for filename in fnames:\n",
    "        labels.append(dirname.split(\"/\")[-1])\n",
    "        files.append(os.path.join(dirname, filename))\n",
    "labels = np.array(labels)\n",
    "files = np.array(files)"
   ]
  },
  {
   "cell_type": "code",
   "execution_count": 5,
   "id": "51c92114",
   "metadata": {
    "execution": {
     "iopub.execute_input": "2024-11-10T23:23:09.947110Z",
     "iopub.status.busy": "2024-11-10T23:23:09.946798Z",
     "iopub.status.idle": "2024-11-10T23:23:09.953384Z",
     "shell.execute_reply": "2024-11-10T23:23:09.952449Z"
    },
    "papermill": {
     "duration": 0.017268,
     "end_time": "2024-11-10T23:23:09.955420",
     "exception": false,
     "start_time": "2024-11-10T23:23:09.938152",
     "status": "completed"
    },
    "tags": []
   },
   "outputs": [
    {
     "data": {
      "text/plain": [
       "(3115,)"
      ]
     },
     "execution_count": 5,
     "metadata": {},
     "output_type": "execute_result"
    }
   ],
   "source": [
    "#number of data we have\n",
    "files.shape"
   ]
  },
  {
   "cell_type": "code",
   "execution_count": 6,
   "id": "ff4f6ea5",
   "metadata": {
    "execution": {
     "iopub.execute_input": "2024-11-10T23:23:09.969870Z",
     "iopub.status.busy": "2024-11-10T23:23:09.969578Z",
     "iopub.status.idle": "2024-11-10T23:23:09.975445Z",
     "shell.execute_reply": "2024-11-10T23:23:09.974526Z"
    },
    "papermill": {
     "duration": 0.015529,
     "end_time": "2024-11-10T23:23:09.977517",
     "exception": false,
     "start_time": "2024-11-10T23:23:09.961988",
     "status": "completed"
    },
    "tags": []
   },
   "outputs": [
    {
     "data": {
      "text/plain": [
       "array(['capsicum', 'capsicum', 'capsicum', ..., 'soy beans', 'soy beans',\n",
       "       'soy beans'], dtype='<U13')"
      ]
     },
     "execution_count": 6,
     "metadata": {},
     "output_type": "execute_result"
    }
   ],
   "source": [
    "labels"
   ]
  },
  {
   "cell_type": "code",
   "execution_count": 7,
   "id": "38f2ec49",
   "metadata": {
    "execution": {
     "iopub.execute_input": "2024-11-10T23:23:09.992103Z",
     "iopub.status.busy": "2024-11-10T23:23:09.991799Z",
     "iopub.status.idle": "2024-11-10T23:23:09.996052Z",
     "shell.execute_reply": "2024-11-10T23:23:09.995146Z"
    },
    "papermill": {
     "duration": 0.013866,
     "end_time": "2024-11-10T23:23:09.997908",
     "exception": false,
     "start_time": "2024-11-10T23:23:09.984042",
     "status": "completed"
    },
    "tags": []
   },
   "outputs": [],
   "source": [
    "convert_tensor = transforms.ToTensor()"
   ]
  },
  {
   "cell_type": "code",
   "execution_count": 8,
   "id": "d1d17061",
   "metadata": {
    "execution": {
     "iopub.execute_input": "2024-11-10T23:23:10.012605Z",
     "iopub.status.busy": "2024-11-10T23:23:10.011852Z",
     "iopub.status.idle": "2024-11-10T23:25:25.767243Z",
     "shell.execute_reply": "2024-11-10T23:25:25.766260Z"
    },
    "papermill": {
     "duration": 135.765764,
     "end_time": "2024-11-10T23:25:25.770012",
     "exception": false,
     "start_time": "2024-11-10T23:23:10.004248",
     "status": "completed"
    },
    "tags": []
   },
   "outputs": [],
   "source": [
    "# Load all images\n",
    "imgs = [convert_tensor(Image.open(f).resize((160, 160), Image.Resampling.BILINEAR)).numpy()\n",
    "[0:3] for f in files]"
   ]
  },
  {
   "cell_type": "code",
   "execution_count": 9,
   "id": "cf9fe9cc",
   "metadata": {
    "execution": {
     "iopub.execute_input": "2024-11-10T23:25:25.788007Z",
     "iopub.status.busy": "2024-11-10T23:25:25.787654Z",
     "iopub.status.idle": "2024-11-10T23:25:26.474645Z",
     "shell.execute_reply": "2024-11-10T23:25:26.473517Z"
    },
    "papermill": {
     "duration": 0.698795,
     "end_time": "2024-11-10T23:25:26.477454",
     "exception": false,
     "start_time": "2024-11-10T23:25:25.778659",
     "status": "completed"
    },
    "tags": []
   },
   "outputs": [],
   "source": [
    "#Make images with only 1 channel 3 channels\n",
    "imgs = torch.tensor(np.array([i if i.shape[0] == 3 else np.array([i[0],i[0],i[0]]) for i in imgs]))"
   ]
  },
  {
   "cell_type": "code",
   "execution_count": 10,
   "id": "1f7dd801",
   "metadata": {
    "execution": {
     "iopub.execute_input": "2024-11-10T23:25:26.494863Z",
     "iopub.status.busy": "2024-11-10T23:25:26.494492Z",
     "iopub.status.idle": "2024-11-10T23:25:26.500583Z",
     "shell.execute_reply": "2024-11-10T23:25:26.499702Z"
    },
    "papermill": {
     "duration": 0.016759,
     "end_time": "2024-11-10T23:25:26.502553",
     "exception": false,
     "start_time": "2024-11-10T23:25:26.485794",
     "status": "completed"
    },
    "tags": []
   },
   "outputs": [
    {
     "data": {
      "text/plain": [
       "torch.Size([3115, 3, 160, 160])"
      ]
     },
     "execution_count": 10,
     "metadata": {},
     "output_type": "execute_result"
    }
   ],
   "source": [
    "imgs.shape"
   ]
  },
  {
   "cell_type": "code",
   "execution_count": 11,
   "id": "347ae4d7",
   "metadata": {
    "execution": {
     "iopub.execute_input": "2024-11-10T23:25:26.517367Z",
     "iopub.status.busy": "2024-11-10T23:25:26.517027Z",
     "iopub.status.idle": "2024-11-10T23:25:26.564041Z",
     "shell.execute_reply": "2024-11-10T23:25:26.563246Z"
    },
    "papermill": {
     "duration": 0.056828,
     "end_time": "2024-11-10T23:25:26.566291",
     "exception": false,
     "start_time": "2024-11-10T23:25:26.509463",
     "status": "completed"
    },
    "tags": []
   },
   "outputs": [],
   "source": [
    "#check that all images ahve the same size\n",
    "for idx, i in enumerate(imgs):\n",
    "    if i.shape[0] != 3:\n",
    "        print(idx)"
   ]
  },
  {
   "cell_type": "code",
   "execution_count": 12,
   "id": "7dfa71a6",
   "metadata": {
    "execution": {
     "iopub.execute_input": "2024-11-10T23:25:26.581416Z",
     "iopub.status.busy": "2024-11-10T23:25:26.580628Z",
     "iopub.status.idle": "2024-11-10T23:25:26.695092Z",
     "shell.execute_reply": "2024-11-10T23:25:26.694165Z"
    },
    "papermill": {
     "duration": 0.124586,
     "end_time": "2024-11-10T23:25:26.697525",
     "exception": false,
     "start_time": "2024-11-10T23:25:26.572939",
     "status": "completed"
    },
    "tags": []
   },
   "outputs": [],
   "source": [
    "### labels\n",
    "labels_index = np.unique(labels) # array of 36 uniques labels\n",
    "labels_idx_only = [np.where(labels_index == l)[0][0] for l in labels] #\n",
    "labels_as_array = torch.stack([F.one_hot(torch.tensor(k), len(labels_index)) for k in labels_idx_only], dim=0).type(torch.FloatTensor)"
   ]
  },
  {
   "cell_type": "code",
   "execution_count": 13,
   "id": "500cd950",
   "metadata": {
    "execution": {
     "iopub.execute_input": "2024-11-10T23:25:26.713549Z",
     "iopub.status.busy": "2024-11-10T23:25:26.712687Z",
     "iopub.status.idle": "2024-11-10T23:25:26.720380Z",
     "shell.execute_reply": "2024-11-10T23:25:26.719510Z"
    },
    "papermill": {
     "duration": 0.017771,
     "end_time": "2024-11-10T23:25:26.722278",
     "exception": false,
     "start_time": "2024-11-10T23:25:26.704507",
     "status": "completed"
    },
    "tags": []
   },
   "outputs": [],
   "source": [
    "class CustomImageDataset(Dataset):\n",
    "    def __init__(self, transform=None, target_transform=None):\n",
    "        self.imgs = imgs\n",
    "        self.img_labels = labels\n",
    "        self.transform = transform\n",
    "        self.target_transform = target_transform\n",
    "\n",
    "    def __len__(self):\n",
    "        return len(self.imgs)\n",
    "\n",
    "    def __getitem__(self, idx):\n",
    "        image = self.imgs[idx]\n",
    "        label = labels_idx_only[idx]\n",
    "        if self.transform:\n",
    "            image = self.transform(image)\n",
    "        if self.target_transform:\n",
    "            label = self.target_transform(label)\n",
    "        return image, label"
   ]
  },
  {
   "cell_type": "code",
   "execution_count": 14,
   "id": "b79d22db",
   "metadata": {
    "execution": {
     "iopub.execute_input": "2024-11-10T23:25:26.737926Z",
     "iopub.status.busy": "2024-11-10T23:25:26.737054Z",
     "iopub.status.idle": "2024-11-10T23:25:26.748831Z",
     "shell.execute_reply": "2024-11-10T23:25:26.747966Z"
    },
    "papermill": {
     "duration": 0.021729,
     "end_time": "2024-11-10T23:25:26.751026",
     "exception": false,
     "start_time": "2024-11-10T23:25:26.729297",
     "status": "completed"
    },
    "tags": []
   },
   "outputs": [],
   "source": [
    "class Net(nn.Module):\n",
    "    def __init__(self, size = 300, channels = 3, labels = 36):\n",
    "        super(Net, self).__init__()\n",
    "        kernel_size_1 = 5\n",
    "        kernel_size_2 = 5\n",
    "        conv1_channels = 80\n",
    "        conv2_channels = 40\n",
    "        conv1_out_dim = int((size - kernel_size_1 + 1) / 2)\n",
    "        conv2_out_dim = int((conv1_out_dim - kernel_size_2 + 1) / 2)\n",
    "        # length of x\n",
    "        self.rescalesize_0 = size * size * channels\n",
    "        self.block1 = nn.Sequential(         \n",
    "            nn.LazyConv2d(conv1_channels, kernel_size=kernel_size_1),\n",
    "            nn.MaxPool2d(2),\n",
    "            nn.ReLU(),\n",
    "            nn.LazyConv2d(conv2_channels, kernel_size=kernel_size_2),\n",
    "            nn.Dropout(),\n",
    "            nn.MaxPool2d(2),\n",
    "            nn.ReLU(),\n",
    "            nn.LazyBatchNorm2d(),\n",
    "            nn.Flatten()\n",
    "        )\n",
    "        #length of data after block1\n",
    "        self.rescalesize_1 = int(conv2_out_dim * conv2_out_dim * conv2_channels)\n",
    "        # residual connection projects data directly into rescalesize\n",
    "        #self.block2 = nn.Sequential(\n",
    "        #    nn.MaxPool2d(8),\n",
    "        #    nn.Flatten(),\n",
    "        #    nn.LazyLinear(self.rescalesize_1)\n",
    "        #)\n",
    "        # linear layer\n",
    "        self.block3 = nn.Sequential(\n",
    "            nn.LazyLinear(1000),\n",
    "            nn.Dropout(),\n",
    "            nn.ReLU(),\n",
    "            nn.LazyLinear(labels),\n",
    "            nn.LogSoftmax(dim=1)\n",
    "        )\n",
    "        print(size)\n",
    "        print(conv1_out_dim)\n",
    "        print(conv2_out_dim)\n",
    "        print(self.rescalesize_0)\n",
    "        print(self.rescalesize_1)\n",
    "\n",
    "    def forward(self, x):\n",
    "        out = self.block1(x)\n",
    "        #out = out + self.block2(x)\n",
    "        out = self.block3(out)\n",
    "        return out"
   ]
  },
  {
   "cell_type": "code",
   "execution_count": 15,
   "id": "31cabf19",
   "metadata": {
    "execution": {
     "iopub.execute_input": "2024-11-10T23:25:26.765760Z",
     "iopub.status.busy": "2024-11-10T23:25:26.765377Z",
     "iopub.status.idle": "2024-11-10T23:25:26.778772Z",
     "shell.execute_reply": "2024-11-10T23:25:26.777821Z"
    },
    "papermill": {
     "duration": 0.022913,
     "end_time": "2024-11-10T23:25:26.780695",
     "exception": false,
     "start_time": "2024-11-10T23:25:26.757782",
     "status": "completed"
    },
    "tags": []
   },
   "outputs": [
    {
     "data": {
      "text/plain": [
       "<torch._C.Generator at 0x7b40616a2cf0>"
      ]
     },
     "execution_count": 15,
     "metadata": {},
     "output_type": "execute_result"
    }
   ],
   "source": [
    "### now training\n",
    "n_epochs = 10\n",
    "batch_size_train = 64\n",
    "learning_rate = 3e-4\n",
    "momentum = 0.5\n",
    "log_interval = 10\n",
    "color_channels = imgs.shape[1]\n",
    "\n",
    "random_seed = 1\n",
    "torch.backends.cudnn.enabled = False\n",
    "torch.manual_seed(random_seed)"
   ]
  },
  {
   "cell_type": "code",
   "execution_count": 16,
   "id": "d7295871",
   "metadata": {
    "execution": {
     "iopub.execute_input": "2024-11-10T23:25:26.795369Z",
     "iopub.status.busy": "2024-11-10T23:25:26.795027Z",
     "iopub.status.idle": "2024-11-10T23:25:26.800560Z",
     "shell.execute_reply": "2024-11-10T23:25:26.799716Z"
    },
    "papermill": {
     "duration": 0.015051,
     "end_time": "2024-11-10T23:25:26.802598",
     "exception": false,
     "start_time": "2024-11-10T23:25:26.787547",
     "status": "completed"
    },
    "tags": []
   },
   "outputs": [],
   "source": [
    "train_loader = DataLoader(CustomImageDataset(), batch_size=batch_size_train, shuffle=True, collate_fn=lambda x: tuple(x_.to(device) for x_ in default_collate(x)))"
   ]
  },
  {
   "cell_type": "code",
   "execution_count": 17,
   "id": "086601d4",
   "metadata": {
    "execution": {
     "iopub.execute_input": "2024-11-10T23:25:26.820539Z",
     "iopub.status.busy": "2024-11-10T23:25:26.820173Z",
     "iopub.status.idle": "2024-11-10T23:25:26.831499Z",
     "shell.execute_reply": "2024-11-10T23:25:26.830239Z"
    },
    "papermill": {
     "duration": 0.022838,
     "end_time": "2024-11-10T23:25:26.833800",
     "exception": false,
     "start_time": "2024-11-10T23:25:26.810962",
     "status": "completed"
    },
    "tags": []
   },
   "outputs": [
    {
     "name": "stdout",
     "output_type": "stream",
     "text": [
      "160\n",
      "78\n",
      "37\n",
      "76800\n",
      "54760\n"
     ]
    }
   ],
   "source": [
    "network = Net(size = imgs.shape[2], channels = imgs.shape[1], labels = np.unique(labels).shape[0])\n",
    "network.to(device)\n",
    "optimizer = optim.Adam(network.parameters(), lr=learning_rate)\n"
   ]
  },
  {
   "cell_type": "code",
   "execution_count": 18,
   "id": "99e103bb",
   "metadata": {
    "execution": {
     "iopub.execute_input": "2024-11-10T23:25:26.852059Z",
     "iopub.status.busy": "2024-11-10T23:25:26.851744Z",
     "iopub.status.idle": "2024-11-10T23:25:26.855856Z",
     "shell.execute_reply": "2024-11-10T23:25:26.854962Z"
    },
    "papermill": {
     "duration": 0.015957,
     "end_time": "2024-11-10T23:25:26.858008",
     "exception": false,
     "start_time": "2024-11-10T23:25:26.842051",
     "status": "completed"
    },
    "tags": []
   },
   "outputs": [],
   "source": [
    "train_losses = []\n",
    "train_counter = []\n",
    "test_losses = []"
   ]
  },
  {
   "cell_type": "code",
   "execution_count": 19,
   "id": "dc780cdf",
   "metadata": {
    "execution": {
     "iopub.execute_input": "2024-11-10T23:25:26.874996Z",
     "iopub.status.busy": "2024-11-10T23:25:26.874670Z",
     "iopub.status.idle": "2024-11-10T23:25:26.883675Z",
     "shell.execute_reply": "2024-11-10T23:25:26.882749Z"
    },
    "papermill": {
     "duration": 0.019682,
     "end_time": "2024-11-10T23:25:26.885910",
     "exception": false,
     "start_time": "2024-11-10T23:25:26.866228",
     "status": "completed"
    },
    "tags": []
   },
   "outputs": [],
   "source": [
    "log = 0\n",
    "def train(epoch):\n",
    "    network.train()\n",
    "    for batch_idx, (data, target) in enumerate(train_loader):\n",
    "        optimizer.zero_grad()\n",
    "        output = network(data)\n",
    "        if log == 1:\n",
    "            print(\"data\")\n",
    "            print(data.shape)\n",
    "            print(\"target\")\n",
    "            print(target.shape)\n",
    "            print(\"output\")\n",
    "            print(output.shape)\n",
    "            exit\n",
    "        loss = F.nll_loss(output, target)\n",
    "        loss.backward()\n",
    "        optimizer.step()\n",
    "        if batch_idx % log_interval == 0:\n",
    "            print('Train Epoch: {} [{}/{} ({:.0f}%)]\\tLoss: {:.6f}'.format(\n",
    "                epoch, batch_idx * len(data),\n",
    "                len(train_loader.dataset),\n",
    "                100. * batch_idx / len(train_loader),\n",
    "                loss.item()\n",
    "            ))\n",
    "            train_losses.append(loss.item())\n",
    "            train_counter.append(\n",
    "                (batch_idx*64) + ((epoch-1)*len(train_loader.dataset))\n",
    "            )\n",
    "            torch.save(network.state_dict(), '/kaggle/working/model.pth')\n",
    "            torch.save(optimizer.state_dict(), '/kaggle/working/optimizer.pth')\n",
    "            "
   ]
  },
  {
   "cell_type": "code",
   "execution_count": 20,
   "id": "0a699333",
   "metadata": {
    "execution": {
     "iopub.execute_input": "2024-11-10T23:25:26.903921Z",
     "iopub.status.busy": "2024-11-10T23:25:26.902913Z",
     "iopub.status.idle": "2024-11-10T23:29:46.204217Z",
     "shell.execute_reply": "2024-11-10T23:29:46.203041Z"
    },
    "papermill": {
     "duration": 259.312581,
     "end_time": "2024-11-10T23:29:46.206982",
     "exception": false,
     "start_time": "2024-11-10T23:25:26.894401",
     "status": "completed"
    },
    "tags": []
   },
   "outputs": [
    {
     "name": "stdout",
     "output_type": "stream",
     "text": [
      "Train Epoch: 1 [0/3115 (0%)]\tLoss: 3.611623\n",
      "Train Epoch: 1 [640/3115 (20%)]\tLoss: 3.087609\n",
      "Train Epoch: 1 [1280/3115 (41%)]\tLoss: 3.336303\n",
      "Train Epoch: 1 [1920/3115 (61%)]\tLoss: 3.053297\n",
      "Train Epoch: 1 [2560/3115 (82%)]\tLoss: 3.197084\n",
      "Train Epoch: 2 [0/3115 (0%)]\tLoss: 1.902058\n",
      "Train Epoch: 2 [640/3115 (20%)]\tLoss: 1.796969\n",
      "Train Epoch: 2 [1280/3115 (41%)]\tLoss: 2.142822\n",
      "Train Epoch: 2 [1920/3115 (61%)]\tLoss: 1.879279\n",
      "Train Epoch: 2 [2560/3115 (82%)]\tLoss: 1.465321\n",
      "Train Epoch: 3 [0/3115 (0%)]\tLoss: 0.835811\n",
      "Train Epoch: 3 [640/3115 (20%)]\tLoss: 0.862840\n",
      "Train Epoch: 3 [1280/3115 (41%)]\tLoss: 0.812928\n",
      "Train Epoch: 3 [1920/3115 (61%)]\tLoss: 0.745315\n",
      "Train Epoch: 3 [2560/3115 (82%)]\tLoss: 0.782363\n",
      "Train Epoch: 4 [0/3115 (0%)]\tLoss: 0.467238\n",
      "Train Epoch: 4 [640/3115 (20%)]\tLoss: 0.281250\n",
      "Train Epoch: 4 [1280/3115 (41%)]\tLoss: 0.262165\n",
      "Train Epoch: 4 [1920/3115 (61%)]\tLoss: 0.708486\n",
      "Train Epoch: 4 [2560/3115 (82%)]\tLoss: 0.276513\n",
      "Train Epoch: 5 [0/3115 (0%)]\tLoss: 0.341482\n",
      "Train Epoch: 5 [640/3115 (20%)]\tLoss: 0.171116\n",
      "Train Epoch: 5 [1280/3115 (41%)]\tLoss: 0.167238\n",
      "Train Epoch: 5 [1920/3115 (61%)]\tLoss: 0.125007\n",
      "Train Epoch: 5 [2560/3115 (82%)]\tLoss: 0.122761\n",
      "Train Epoch: 6 [0/3115 (0%)]\tLoss: 0.200380\n",
      "Train Epoch: 6 [640/3115 (20%)]\tLoss: 0.075260\n",
      "Train Epoch: 6 [1280/3115 (41%)]\tLoss: 0.049254\n",
      "Train Epoch: 6 [1920/3115 (61%)]\tLoss: 0.076520\n",
      "Train Epoch: 6 [2560/3115 (82%)]\tLoss: 0.256957\n",
      "Train Epoch: 7 [0/3115 (0%)]\tLoss: 0.063978\n",
      "Train Epoch: 7 [640/3115 (20%)]\tLoss: 0.083374\n",
      "Train Epoch: 7 [1280/3115 (41%)]\tLoss: 0.120916\n",
      "Train Epoch: 7 [1920/3115 (61%)]\tLoss: 0.056474\n",
      "Train Epoch: 7 [2560/3115 (82%)]\tLoss: 0.073646\n",
      "Train Epoch: 8 [0/3115 (0%)]\tLoss: 0.075214\n",
      "Train Epoch: 8 [640/3115 (20%)]\tLoss: 0.138361\n",
      "Train Epoch: 8 [1280/3115 (41%)]\tLoss: 0.034212\n",
      "Train Epoch: 8 [1920/3115 (61%)]\tLoss: 0.046288\n",
      "Train Epoch: 8 [2560/3115 (82%)]\tLoss: 0.056331\n",
      "Train Epoch: 9 [0/3115 (0%)]\tLoss: 0.013578\n",
      "Train Epoch: 9 [640/3115 (20%)]\tLoss: 0.027538\n",
      "Train Epoch: 9 [1280/3115 (41%)]\tLoss: 0.127028\n",
      "Train Epoch: 9 [1920/3115 (61%)]\tLoss: 0.079015\n",
      "Train Epoch: 9 [2560/3115 (82%)]\tLoss: 0.024082\n",
      "Train Epoch: 10 [0/3115 (0%)]\tLoss: 0.025776\n",
      "Train Epoch: 10 [640/3115 (20%)]\tLoss: 0.063864\n",
      "Train Epoch: 10 [1280/3115 (41%)]\tLoss: 0.192587\n",
      "Train Epoch: 10 [1920/3115 (61%)]\tLoss: 0.016755\n",
      "Train Epoch: 10 [2560/3115 (82%)]\tLoss: 0.264140\n"
     ]
    }
   ],
   "source": [
    "for epoch in range(1,n_epochs+1):\n",
    "    train(epoch)"
   ]
  },
  {
   "cell_type": "code",
   "execution_count": 21,
   "id": "fad602fd",
   "metadata": {
    "execution": {
     "iopub.execute_input": "2024-11-10T23:29:46.234550Z",
     "iopub.status.busy": "2024-11-10T23:29:46.234120Z",
     "iopub.status.idle": "2024-11-10T23:29:46.560733Z",
     "shell.execute_reply": "2024-11-10T23:29:46.559790Z"
    },
    "papermill": {
     "duration": 0.342274,
     "end_time": "2024-11-10T23:29:46.563071",
     "exception": false,
     "start_time": "2024-11-10T23:29:46.220797",
     "status": "completed"
    },
    "tags": []
   },
   "outputs": [
    {
     "data": {
      "text/plain": [
       "Text(0, 0.5, 'negative log likelihood loss')"
      ]
     },
     "execution_count": 21,
     "metadata": {},
     "output_type": "execute_result"
    },
    {
     "data": {
      "image/png": "[encoded data removed]",
      "text/plain": [
       "<Figure size 640x480 with 1 Axes>"
      ]
     },
     "metadata": {},
     "output_type": "display_data"
    }
   ],
   "source": [
    "fig = plt.figure()\n",
    "plt.plot(train_counter, train_losses, color='blue')\n",
    "plt.legend(['Train Loss'], loc='upper right')\n",
    "plt.xlabel('number of training examples seen')\n",
    "plt.ylabel('negative log likelihood loss')\n"
   ]
  }
 ],
 "metadata": {
  "kaggle": {
   "accelerator": "gpu",
   "dataSources": [
    {
     "datasetId": 952827,
     "sourceId": 3173719,
     "sourceType": "datasetVersion"
    }
   ],
   "dockerImageVersionId": 30786,
   "isGpuEnabled": true,
   "isInternetEnabled": false,
   "language": "python",
   "sourceType": "notebook"
  },
  "kernelspec": {
   "display_name": "Python 3",
   "language": "python",
   "name": "python3"
  },
  "language_info": {
   "codemirror_mode": {
    "name": "ipython",
    "version": 3
   },
   "file_extension": ".py",
   "mimetype": "text/x-python",
   "name": "python",
   "nbconvert_exporter": "python",
   "pygments_lexer": "ipython3",
   "version": "3.10.14"
  },
  "papermill": {
   "default_parameters": {},
   "duration": 408.944937,
   "end_time": "2024-11-10T23:29:49.139398",
   "environment_variables": {},
   "exception": null,
   "input_path": "__notebook__.ipynb",
   "output_path": "__notebook__.ipynb",
   "parameters": {},
   "start_time": "2024-11-10T23:23:00.194461",
   "version": "2.6.0"
  }
 },
 "nbformat": 4,
 "nbformat_minor": 5
}
