{
 "cells": [
  {
   "cell_type": "code",
   "execution_count": 1,
   "id": "f6677510",
   "metadata": {
    "execution": {
     "iopub.execute_input": "2024-11-12T23:21:01.857087Z",
     "iopub.status.busy": "2024-11-12T23:21:01.856711Z",
     "iopub.status.idle": "2024-11-12T23:21:07.410926Z",
     "shell.execute_reply": "2024-11-12T23:21:07.409911Z"
    },
    "papermill": {
     "duration": 5.565084,
     "end_time": "2024-11-12T23:21:07.413242",
     "exception": false,
     "start_time": "2024-11-12T23:21:01.848158",
     "status": "completed"
    },
    "tags": []
   },
   "outputs": [],
   "source": [
    "import pandas as pd\n",
    "import torch\n",
    "import torchvision\n",
    "import torchvision.transforms as T\n",
    "import torch.nn as nn\n",
    "import torch.optim as optim\n",
    "import torch.nn.functional as F\n",
    "from torch.utils.data import DataLoader\n",
    "from torch.utils.data import Dataset\n",
    "from torch.utils.data.dataloader import default_collate\n",
    "from PIL import Image\n",
    "import matplotlib.pyplot as plt\n",
    "import numpy as np\n",
    "from PIL.Image import Image as PilImage\n",
    "import textwrap, os"
   ]
  },
  {
   "cell_type": "code",
   "execution_count": 2,
   "id": "eb7c269d",
   "metadata": {
    "execution": {
     "iopub.execute_input": "2024-11-12T23:21:07.427458Z",
     "iopub.status.busy": "2024-11-12T23:21:07.427011Z",
     "iopub.status.idle": "2024-11-12T23:21:07.431130Z",
     "shell.execute_reply": "2024-11-12T23:21:07.430365Z"
    },
    "papermill": {
     "duration": 0.013033,
     "end_time": "2024-11-12T23:21:07.432915",
     "exception": false,
     "start_time": "2024-11-12T23:21:07.419882",
     "status": "completed"
    },
    "tags": []
   },
   "outputs": [],
   "source": [
    "transform = T.ToPILImage()"
   ]
  },
  {
   "cell_type": "code",
   "execution_count": 3,
   "id": "3cbd16c3",
   "metadata": {
    "execution": {
     "iopub.execute_input": "2024-11-12T23:21:07.446433Z",
     "iopub.status.busy": "2024-11-12T23:21:07.445922Z",
     "iopub.status.idle": "2024-11-12T23:21:07.686594Z",
     "shell.execute_reply": "2024-11-12T23:21:07.685570Z"
    },
    "papermill": {
     "duration": 0.249759,
     "end_time": "2024-11-12T23:21:07.688728",
     "exception": false,
     "start_time": "2024-11-12T23:21:07.438969",
     "status": "completed"
    },
    "tags": []
   },
   "outputs": [
    {
     "name": "stdout",
     "output_type": "stream",
     "text": [
      "Running on: \n",
      "Cuda\n"
     ]
    }
   ],
   "source": [
    "print(\"Running on: \")\n",
    "if torch.cuda.is_available(): \n",
    "    dev = \"cuda:0\"\n",
    "    print(\"Cuda\")\n",
    "else:\n",
    "    dev = \"cpu\"\n",
    "    print(\"CPU\")\n",
    "device = torch.device(dev) \n",
    "a = torch.zeros(4,3) \n",
    "a = a.to(device)"
   ]
  },
  {
   "cell_type": "code",
   "execution_count": 4,
   "id": "453dc823",
   "metadata": {
    "execution": {
     "iopub.execute_input": "2024-11-12T23:21:07.703922Z",
     "iopub.status.busy": "2024-11-12T23:21:07.703601Z",
     "iopub.status.idle": "2024-11-12T23:21:07.707548Z",
     "shell.execute_reply": "2024-11-12T23:21:07.706655Z"
    },
    "papermill": {
     "duration": 0.013257,
     "end_time": "2024-11-12T23:21:07.709550",
     "exception": false,
     "start_time": "2024-11-12T23:21:07.696293",
     "status": "completed"
    },
    "tags": []
   },
   "outputs": [],
   "source": [
    "size = 28"
   ]
  },
  {
   "cell_type": "code",
   "execution_count": 5,
   "id": "0d0fca00",
   "metadata": {
    "execution": {
     "iopub.execute_input": "2024-11-12T23:21:07.723021Z",
     "iopub.status.busy": "2024-11-12T23:21:07.722733Z",
     "iopub.status.idle": "2024-11-12T23:21:07.728270Z",
     "shell.execute_reply": "2024-11-12T23:21:07.727469Z"
    },
    "papermill": {
     "duration": 0.014471,
     "end_time": "2024-11-12T23:21:07.730147",
     "exception": false,
     "start_time": "2024-11-12T23:21:07.715676",
     "status": "completed"
    },
    "tags": []
   },
   "outputs": [],
   "source": [
    "def load_digits(folder, has_labels = True):\n",
    "    df = pd.read_csv(folder)\n",
    "    labels = torch.tensor(df[\"label\"].values).to(device) if has_labels else None\n",
    "    data = torch.tensor(df.loc[:, df.columns != 'label'].values / 256).float()\n",
    "    data = data.view(data.shape[0],1, size, size)\n",
    "    data = data.to(device)\n",
    "    return data, labels"
   ]
  },
  {
   "cell_type": "code",
   "execution_count": 6,
   "id": "08bd73e1",
   "metadata": {
    "execution": {
     "iopub.execute_input": "2024-11-12T23:21:07.743324Z",
     "iopub.status.busy": "2024-11-12T23:21:07.743043Z",
     "iopub.status.idle": "2024-11-12T23:21:11.664626Z",
     "shell.execute_reply": "2024-11-12T23:21:11.663739Z"
    },
    "papermill": {
     "duration": 3.931048,
     "end_time": "2024-11-12T23:21:11.667238",
     "exception": false,
     "start_time": "2024-11-12T23:21:07.736190",
     "status": "completed"
    },
    "tags": []
   },
   "outputs": [],
   "source": [
    "data, labels = load_digits('/kaggle/input/digit-recognizer/train.csv')"
   ]
  },
  {
   "cell_type": "code",
   "execution_count": 7,
   "id": "042e3462",
   "metadata": {
    "execution": {
     "iopub.execute_input": "2024-11-12T23:21:11.684545Z",
     "iopub.status.busy": "2024-11-12T23:21:11.683628Z",
     "iopub.status.idle": "2024-11-12T23:21:13.978517Z",
     "shell.execute_reply": "2024-11-12T23:21:13.977579Z"
    },
    "papermill": {
     "duration": 2.305634,
     "end_time": "2024-11-12T23:21:13.980788",
     "exception": false,
     "start_time": "2024-11-12T23:21:11.675154",
     "status": "completed"
    },
    "tags": []
   },
   "outputs": [],
   "source": [
    "test_data, test_labels = load_digits('/kaggle/input/digit-recognizer/test.csv', has_labels = False)"
   ]
  },
  {
   "cell_type": "code",
   "execution_count": 8,
   "id": "14059846",
   "metadata": {
    "execution": {
     "iopub.execute_input": "2024-11-12T23:21:13.995319Z",
     "iopub.status.busy": "2024-11-12T23:21:13.994661Z",
     "iopub.status.idle": "2024-11-12T23:21:14.001263Z",
     "shell.execute_reply": "2024-11-12T23:21:14.000442Z"
    },
    "papermill": {
     "duration": 0.015753,
     "end_time": "2024-11-12T23:21:14.003094",
     "exception": false,
     "start_time": "2024-11-12T23:21:13.987341",
     "status": "completed"
    },
    "tags": []
   },
   "outputs": [],
   "source": [
    "def image_grid(\n",
    "    data,\n",
    "    labels\n",
    "):\n",
    "    images = [transform(i[0]) for i in data]\n",
    "    str_labels = [str(i.item()) for i in labels]\n",
    "    plt.figure()\n",
    "    for i, image in enumerate(images):\n",
    "        plt.subplot(int(len(images) / 5)+1, 5, i +1)\n",
    "        plt.imshow(image)\n",
    "        plt.title(str_labels[i], fontsize=16); "
   ]
  },
  {
   "cell_type": "code",
   "execution_count": 9,
   "id": "a3849f00",
   "metadata": {
    "execution": {
     "iopub.execute_input": "2024-11-12T23:21:14.016699Z",
     "iopub.status.busy": "2024-11-12T23:21:14.016075Z",
     "iopub.status.idle": "2024-11-12T23:21:15.394717Z",
     "shell.execute_reply": "2024-11-12T23:21:15.393785Z"
    },
    "papermill": {
     "duration": 1.387586,
     "end_time": "2024-11-12T23:21:15.396715",
     "exception": false,
     "start_time": "2024-11-12T23:21:14.009129",
     "status": "completed"
    },
    "tags": []
   },
   "outputs": [
    {
     "data": {
      "image/png": "[encoded data removed]",
      "text/plain": [
       "<Figure size 640x480 with 10 Axes>"
      ]
     },
     "metadata": {},
     "output_type": "display_data"
    }
   ],
   "source": [
    "image_grid(data[0:10], labels[0:10])"
   ]
  },
  {
   "cell_type": "code",
   "execution_count": 10,
   "id": "59bc573f",
   "metadata": {
    "execution": {
     "iopub.execute_input": "2024-11-12T23:21:15.411839Z",
     "iopub.status.busy": "2024-11-12T23:21:15.411111Z",
     "iopub.status.idle": "2024-11-12T23:21:15.418458Z",
     "shell.execute_reply": "2024-11-12T23:21:15.417464Z"
    },
    "papermill": {
     "duration": 0.016823,
     "end_time": "2024-11-12T23:21:15.420375",
     "exception": false,
     "start_time": "2024-11-12T23:21:15.403552",
     "status": "completed"
    },
    "tags": []
   },
   "outputs": [],
   "source": [
    "class Net(nn.Module):\n",
    "    def __init__(self):\n",
    "        super(Net, self).__init__()\n",
    "        self.block1 = nn.Sequential(\n",
    "            nn.LazyConv2d(10, kernel_size=5),\n",
    "            nn.Dropout(),\n",
    "            nn.LazyConv2d(20, kernel_size=5),\n",
    "            nn.LazyBatchNorm2d()\n",
    "        )\n",
    "        self.block2 = nn.Sequential(\n",
    "            nn.Flatten(),\n",
    "            nn.LazyLinear(200),\n",
    "            nn.GELU(),\n",
    "            nn.Dropout(),\n",
    "            nn.LazyLinear(10),\n",
    "            nn.LogSoftmax(dim = 1)\n",
    "        )\n",
    "    \n",
    "    def forward(self, x):\n",
    "        out = x\n",
    "        out = self.block1(out)\n",
    "        out = self.block2(out)\n",
    "        return out\n"
   ]
  },
  {
   "cell_type": "code",
   "execution_count": 11,
   "id": "2d02322e",
   "metadata": {
    "execution": {
     "iopub.execute_input": "2024-11-12T23:21:15.434379Z",
     "iopub.status.busy": "2024-11-12T23:21:15.434111Z",
     "iopub.status.idle": "2024-11-12T23:21:15.440275Z",
     "shell.execute_reply": "2024-11-12T23:21:15.439449Z"
    },
    "papermill": {
     "duration": 0.015345,
     "end_time": "2024-11-12T23:21:15.442148",
     "exception": false,
     "start_time": "2024-11-12T23:21:15.426803",
     "status": "completed"
    },
    "tags": []
   },
   "outputs": [],
   "source": [
    "class CustomImageDataset(Dataset):\n",
    "    def __init__(self, data, labels):\n",
    "        self.labels = labels\n",
    "        self.data = data\n",
    "        self.transform = transform\n",
    "        self.target_transform = target_transform\n",
    "\n",
    "    def __len__(self):\n",
    "        return len(self.files)\n",
    "\n",
    "    def __getitem__(self, idx):\n",
    "        data = self.data[idx]\n",
    "        label = self.labels[idx]\n",
    "        if self.transform:\n",
    "            image = self.transform(image)\n",
    "        if self.target_transform:\n",
    "            label = self.target_transform(label)\n",
    "        return data, label"
   ]
  },
  {
   "cell_type": "code",
   "execution_count": 12,
   "id": "37797670",
   "metadata": {
    "execution": {
     "iopub.execute_input": "2024-11-12T23:21:15.456323Z",
     "iopub.status.busy": "2024-11-12T23:21:15.456034Z",
     "iopub.status.idle": "2024-11-12T23:21:15.467616Z",
     "shell.execute_reply": "2024-11-12T23:21:15.466767Z"
    },
    "papermill": {
     "duration": 0.020816,
     "end_time": "2024-11-12T23:21:15.469480",
     "exception": false,
     "start_time": "2024-11-12T23:21:15.448664",
     "status": "completed"
    },
    "tags": []
   },
   "outputs": [
    {
     "data": {
      "text/plain": [
       "<torch._C.Generator at 0x7edbed8c6d10>"
      ]
     },
     "execution_count": 12,
     "metadata": {},
     "output_type": "execute_result"
    }
   ],
   "source": [
    "n_epochs = 10\n",
    "batch_size_train = 16\n",
    "batch_size_test = 1000\n",
    "learning_rate = 3e-4\n",
    "momentum = 0.5\n",
    "log_interval = 100\n",
    "\n",
    "random_seed = 1\n",
    "torch.backends.cudnn.enabled = False\n",
    "torch.manual_seed(random_seed)"
   ]
  },
  {
   "cell_type": "code",
   "execution_count": 13,
   "id": "ffe8728d",
   "metadata": {
    "execution": {
     "iopub.execute_input": "2024-11-12T23:21:15.483730Z",
     "iopub.status.busy": "2024-11-12T23:21:15.483442Z",
     "iopub.status.idle": "2024-11-12T23:21:15.493819Z",
     "shell.execute_reply": "2024-11-12T23:21:15.493130Z"
    },
    "papermill": {
     "duration": 0.019601,
     "end_time": "2024-11-12T23:21:15.495733",
     "exception": false,
     "start_time": "2024-11-12T23:21:15.476132",
     "status": "completed"
    },
    "tags": []
   },
   "outputs": [],
   "source": [
    "network = Net()\n",
    "network.to(device)\n",
    "optimizer = optim.Adam(network.parameters(), lr=learning_rate)"
   ]
  },
  {
   "cell_type": "code",
   "execution_count": 14,
   "id": "4700e695",
   "metadata": {
    "execution": {
     "iopub.execute_input": "2024-11-12T23:21:15.510300Z",
     "iopub.status.busy": "2024-11-12T23:21:15.510022Z",
     "iopub.status.idle": "2024-11-12T23:21:15.514247Z",
     "shell.execute_reply": "2024-11-12T23:21:15.513444Z"
    },
    "papermill": {
     "duration": 0.013569,
     "end_time": "2024-11-12T23:21:15.516147",
     "exception": false,
     "start_time": "2024-11-12T23:21:15.502578",
     "status": "completed"
    },
    "tags": []
   },
   "outputs": [],
   "source": [
    "train_loader = DataLoader(torch.utils.data.TensorDataset(data, labels), batch_size=batch_size_train, shuffle=True)"
   ]
  },
  {
   "cell_type": "code",
   "execution_count": 15,
   "id": "666c53af",
   "metadata": {
    "execution": {
     "iopub.execute_input": "2024-11-12T23:21:15.530934Z",
     "iopub.status.busy": "2024-11-12T23:21:15.530265Z",
     "iopub.status.idle": "2024-11-12T23:21:15.534722Z",
     "shell.execute_reply": "2024-11-12T23:21:15.533885Z"
    },
    "papermill": {
     "duration": 0.013718,
     "end_time": "2024-11-12T23:21:15.536534",
     "exception": false,
     "start_time": "2024-11-12T23:21:15.522816",
     "status": "completed"
    },
    "tags": []
   },
   "outputs": [],
   "source": [
    "train_losses = []\n",
    "train_counter = []\n",
    "test_losses = []\n",
    "test_counter = [i*len(train_loader.dataset) for i in range(n_epochs + 1)]"
   ]
  },
  {
   "cell_type": "code",
   "execution_count": 16,
   "id": "414edde7",
   "metadata": {
    "execution": {
     "iopub.execute_input": "2024-11-12T23:21:15.550843Z",
     "iopub.status.busy": "2024-11-12T23:21:15.550583Z",
     "iopub.status.idle": "2024-11-12T23:21:15.557874Z",
     "shell.execute_reply": "2024-11-12T23:21:15.557058Z"
    },
    "papermill": {
     "duration": 0.016612,
     "end_time": "2024-11-12T23:21:15.559748",
     "exception": false,
     "start_time": "2024-11-12T23:21:15.543136",
     "status": "completed"
    },
    "tags": []
   },
   "outputs": [],
   "source": [
    "\n",
    "\n",
    "def train(epoch):\n",
    "    network.train()\n",
    "    for batch_idx, (data, target) in enumerate(train_loader):\n",
    "        optimizer.zero_grad()\n",
    "        output = network(data)\n",
    "        loss = F.nll_loss(output, target)\n",
    "        loss.backward()\n",
    "        optimizer.step()\n",
    "        if batch_idx % log_interval == 0:\n",
    "            print('Train Epoch: {} [{}/{} ({:.0f}%)]\\tLoss: {:.6f}'.format(\n",
    "                epoch, batch_idx * len(data),\n",
    "                len(train_loader.dataset),\n",
    "                100. * batch_idx / len(train_loader),\n",
    "                loss.item()\n",
    "            ))\n",
    "            train_losses.append(loss.item())\n",
    "            train_counter.append(\n",
    "                (batch_idx*batch_size_train) + ((epoch-1)*len(train_loader.dataset))\n",
    "            )\n",
    "            torch.save(network.state_dict(), '/kaggle/working/model.pth')\n",
    "            torch.save(optimizer.state_dict(), '/kaggle/working/optimizer.pth')\n",
    "            "
   ]
  },
  {
   "cell_type": "code",
   "execution_count": 17,
   "id": "2badec8c",
   "metadata": {
    "execution": {
     "iopub.execute_input": "2024-11-12T23:21:15.574062Z",
     "iopub.status.busy": "2024-11-12T23:21:15.573594Z",
     "iopub.status.idle": "2024-11-12T23:22:56.092549Z",
     "shell.execute_reply": "2024-11-12T23:22:56.091264Z"
    },
    "papermill": {
     "duration": 100.528309,
     "end_time": "2024-11-12T23:22:56.094591",
     "exception": false,
     "start_time": "2024-11-12T23:21:15.566282",
     "status": "completed"
    },
    "tags": []
   },
   "outputs": [
    {
     "name": "stdout",
     "output_type": "stream",
     "text": [
      "Train Epoch: 1 [0/42000 (0%)]\tLoss: 2.258656\n",
      "Train Epoch: 1 [1600/42000 (4%)]\tLoss: 0.793569\n",
      "Train Epoch: 1 [3200/42000 (8%)]\tLoss: 0.427654\n",
      "Train Epoch: 1 [4800/42000 (11%)]\tLoss: 0.249104\n",
      "Train Epoch: 1 [6400/42000 (15%)]\tLoss: 1.300730\n",
      "Train Epoch: 1 [8000/42000 (19%)]\tLoss: 0.331886\n",
      "Train Epoch: 1 [9600/42000 (23%)]\tLoss: 0.306072\n",
      "Train Epoch: 1 [11200/42000 (27%)]\tLoss: 0.239535\n",
      "Train Epoch: 1 [12800/42000 (30%)]\tLoss: 0.168003\n",
      "Train Epoch: 1 [14400/42000 (34%)]\tLoss: 0.061853\n",
      "Train Epoch: 1 [16000/42000 (38%)]\tLoss: 0.108755\n",
      "Train Epoch: 1 [17600/42000 (42%)]\tLoss: 0.184336\n",
      "Train Epoch: 1 [19200/42000 (46%)]\tLoss: 0.125596\n",
      "Train Epoch: 1 [20800/42000 (50%)]\tLoss: 0.222992\n",
      "Train Epoch: 1 [22400/42000 (53%)]\tLoss: 0.437519\n",
      "Train Epoch: 1 [24000/42000 (57%)]\tLoss: 0.155200\n",
      "Train Epoch: 1 [25600/42000 (61%)]\tLoss: 0.236984\n",
      "Train Epoch: 1 [27200/42000 (65%)]\tLoss: 0.600008\n",
      "Train Epoch: 1 [28800/42000 (69%)]\tLoss: 0.100828\n",
      "Train Epoch: 1 [30400/42000 (72%)]\tLoss: 0.520028\n",
      "Train Epoch: 1 [32000/42000 (76%)]\tLoss: 0.064975\n",
      "Train Epoch: 1 [33600/42000 (80%)]\tLoss: 0.422323\n",
      "Train Epoch: 1 [35200/42000 (84%)]\tLoss: 0.096553\n",
      "Train Epoch: 1 [36800/42000 (88%)]\tLoss: 0.528020\n",
      "Train Epoch: 1 [38400/42000 (91%)]\tLoss: 0.107190\n",
      "Train Epoch: 1 [40000/42000 (95%)]\tLoss: 0.022898\n",
      "Train Epoch: 1 [41600/42000 (99%)]\tLoss: 0.117516\n",
      "Train Epoch: 2 [0/42000 (0%)]\tLoss: 0.079678\n",
      "Train Epoch: 2 [1600/42000 (4%)]\tLoss: 0.261845\n",
      "Train Epoch: 2 [3200/42000 (8%)]\tLoss: 0.093630\n",
      "Train Epoch: 2 [4800/42000 (11%)]\tLoss: 0.168601\n",
      "Train Epoch: 2 [6400/42000 (15%)]\tLoss: 0.086945\n",
      "Train Epoch: 2 [8000/42000 (19%)]\tLoss: 0.355032\n",
      "Train Epoch: 2 [9600/42000 (23%)]\tLoss: 0.072651\n",
      "Train Epoch: 2 [11200/42000 (27%)]\tLoss: 0.116181\n",
      "Train Epoch: 2 [12800/42000 (30%)]\tLoss: 0.132592\n",
      "Train Epoch: 2 [14400/42000 (34%)]\tLoss: 0.210735\n",
      "Train Epoch: 2 [16000/42000 (38%)]\tLoss: 0.101286\n",
      "Train Epoch: 2 [17600/42000 (42%)]\tLoss: 0.586863\n",
      "Train Epoch: 2 [19200/42000 (46%)]\tLoss: 0.122969\n",
      "Train Epoch: 2 [20800/42000 (50%)]\tLoss: 0.170550\n",
      "Train Epoch: 2 [22400/42000 (53%)]\tLoss: 0.089064\n",
      "Train Epoch: 2 [24000/42000 (57%)]\tLoss: 0.152000\n",
      "Train Epoch: 2 [25600/42000 (61%)]\tLoss: 0.608454\n",
      "Train Epoch: 2 [27200/42000 (65%)]\tLoss: 0.062153\n",
      "Train Epoch: 2 [28800/42000 (69%)]\tLoss: 0.666055\n",
      "Train Epoch: 2 [30400/42000 (72%)]\tLoss: 0.367383\n",
      "Train Epoch: 2 [32000/42000 (76%)]\tLoss: 0.420580\n",
      "Train Epoch: 2 [33600/42000 (80%)]\tLoss: 0.287660\n",
      "Train Epoch: 2 [35200/42000 (84%)]\tLoss: 0.125419\n",
      "Train Epoch: 2 [36800/42000 (88%)]\tLoss: 0.216496\n",
      "Train Epoch: 2 [38400/42000 (91%)]\tLoss: 0.121576\n",
      "Train Epoch: 2 [40000/42000 (95%)]\tLoss: 0.196301\n",
      "Train Epoch: 2 [41600/42000 (99%)]\tLoss: 0.019464\n",
      "Train Epoch: 3 [0/42000 (0%)]\tLoss: 0.296521\n",
      "Train Epoch: 3 [1600/42000 (4%)]\tLoss: 0.157243\n",
      "Train Epoch: 3 [3200/42000 (8%)]\tLoss: 0.361022\n",
      "Train Epoch: 3 [4800/42000 (11%)]\tLoss: 0.013455\n",
      "Train Epoch: 3 [6400/42000 (15%)]\tLoss: 0.196876\n",
      "Train Epoch: 3 [8000/42000 (19%)]\tLoss: 0.009428\n",
      "Train Epoch: 3 [9600/42000 (23%)]\tLoss: 0.700409\n",
      "Train Epoch: 3 [11200/42000 (27%)]\tLoss: 0.009397\n",
      "Train Epoch: 3 [12800/42000 (30%)]\tLoss: 0.842967\n",
      "Train Epoch: 3 [14400/42000 (34%)]\tLoss: 0.071925\n",
      "Train Epoch: 3 [16000/42000 (38%)]\tLoss: 0.020371\n",
      "Train Epoch: 3 [17600/42000 (42%)]\tLoss: 0.063863\n",
      "Train Epoch: 3 [19200/42000 (46%)]\tLoss: 0.191716\n",
      "Train Epoch: 3 [20800/42000 (50%)]\tLoss: 0.168268\n",
      "Train Epoch: 3 [22400/42000 (53%)]\tLoss: 0.754937\n",
      "Train Epoch: 3 [24000/42000 (57%)]\tLoss: 0.114579\n",
      "Train Epoch: 3 [25600/42000 (61%)]\tLoss: 0.017255\n",
      "Train Epoch: 3 [27200/42000 (65%)]\tLoss: 0.918135\n",
      "Train Epoch: 3 [28800/42000 (69%)]\tLoss: 0.093785\n",
      "Train Epoch: 3 [30400/42000 (72%)]\tLoss: 0.435236\n",
      "Train Epoch: 3 [32000/42000 (76%)]\tLoss: 0.053600\n",
      "Train Epoch: 3 [33600/42000 (80%)]\tLoss: 0.003870\n",
      "Train Epoch: 3 [35200/42000 (84%)]\tLoss: 0.444272\n",
      "Train Epoch: 3 [36800/42000 (88%)]\tLoss: 0.019730\n",
      "Train Epoch: 3 [38400/42000 (91%)]\tLoss: 0.277002\n",
      "Train Epoch: 3 [40000/42000 (95%)]\tLoss: 0.187099\n",
      "Train Epoch: 3 [41600/42000 (99%)]\tLoss: 0.012997\n",
      "Train Epoch: 4 [0/42000 (0%)]\tLoss: 0.072959\n",
      "Train Epoch: 4 [1600/42000 (4%)]\tLoss: 0.545670\n",
      "Train Epoch: 4 [3200/42000 (8%)]\tLoss: 0.014039\n",
      "Train Epoch: 4 [4800/42000 (11%)]\tLoss: 0.099944\n",
      "Train Epoch: 4 [6400/42000 (15%)]\tLoss: 0.020131\n",
      "Train Epoch: 4 [8000/42000 (19%)]\tLoss: 0.012576\n",
      "Train Epoch: 4 [9600/42000 (23%)]\tLoss: 0.030548\n",
      "Train Epoch: 4 [11200/42000 (27%)]\tLoss: 0.016498\n",
      "Train Epoch: 4 [12800/42000 (30%)]\tLoss: 0.370464\n",
      "Train Epoch: 4 [14400/42000 (34%)]\tLoss: 0.525335\n",
      "Train Epoch: 4 [16000/42000 (38%)]\tLoss: 0.445805\n",
      "Train Epoch: 4 [17600/42000 (42%)]\tLoss: 0.018998\n",
      "Train Epoch: 4 [19200/42000 (46%)]\tLoss: 0.105110\n",
      "Train Epoch: 4 [20800/42000 (50%)]\tLoss: 0.531228\n",
      "Train Epoch: 4 [22400/42000 (53%)]\tLoss: 0.056205\n",
      "Train Epoch: 4 [24000/42000 (57%)]\tLoss: 0.007070\n",
      "Train Epoch: 4 [25600/42000 (61%)]\tLoss: 0.063285\n",
      "Train Epoch: 4 [27200/42000 (65%)]\tLoss: 0.029371\n",
      "Train Epoch: 4 [28800/42000 (69%)]\tLoss: 0.008218\n",
      "Train Epoch: 4 [30400/42000 (72%)]\tLoss: 0.005103\n",
      "Train Epoch: 4 [32000/42000 (76%)]\tLoss: 0.207006\n",
      "Train Epoch: 4 [33600/42000 (80%)]\tLoss: 0.170206\n",
      "Train Epoch: 4 [35200/42000 (84%)]\tLoss: 0.207200\n",
      "Train Epoch: 4 [36800/42000 (88%)]\tLoss: 0.346104\n",
      "Train Epoch: 4 [38400/42000 (91%)]\tLoss: 0.051983\n",
      "Train Epoch: 4 [40000/42000 (95%)]\tLoss: 0.195424\n",
      "Train Epoch: 4 [41600/42000 (99%)]\tLoss: 0.113524\n",
      "Train Epoch: 5 [0/42000 (0%)]\tLoss: 0.114753\n",
      "Train Epoch: 5 [1600/42000 (4%)]\tLoss: 0.045665\n",
      "Train Epoch: 5 [3200/42000 (8%)]\tLoss: 0.555478\n",
      "Train Epoch: 5 [4800/42000 (11%)]\tLoss: 0.008559\n",
      "Train Epoch: 5 [6400/42000 (15%)]\tLoss: 0.427746\n",
      "Train Epoch: 5 [8000/42000 (19%)]\tLoss: 0.125579\n",
      "Train Epoch: 5 [9600/42000 (23%)]\tLoss: 0.039925\n",
      "Train Epoch: 5 [11200/42000 (27%)]\tLoss: 0.073374\n",
      "Train Epoch: 5 [12800/42000 (30%)]\tLoss: 0.033226\n",
      "Train Epoch: 5 [14400/42000 (34%)]\tLoss: 0.303287\n",
      "Train Epoch: 5 [16000/42000 (38%)]\tLoss: 0.108600\n",
      "Train Epoch: 5 [17600/42000 (42%)]\tLoss: 0.074348\n",
      "Train Epoch: 5 [19200/42000 (46%)]\tLoss: 0.040079\n",
      "Train Epoch: 5 [20800/42000 (50%)]\tLoss: 0.049780\n",
      "Train Epoch: 5 [22400/42000 (53%)]\tLoss: 0.003551\n",
      "Train Epoch: 5 [24000/42000 (57%)]\tLoss: 0.043345\n",
      "Train Epoch: 5 [25600/42000 (61%)]\tLoss: 0.247853\n",
      "Train Epoch: 5 [27200/42000 (65%)]\tLoss: 0.030880\n",
      "Train Epoch: 5 [28800/42000 (69%)]\tLoss: 0.009112\n",
      "Train Epoch: 5 [30400/42000 (72%)]\tLoss: 0.061284\n",
      "Train Epoch: 5 [32000/42000 (76%)]\tLoss: 0.167102\n",
      "Train Epoch: 5 [33600/42000 (80%)]\tLoss: 0.160573\n",
      "Train Epoch: 5 [35200/42000 (84%)]\tLoss: 0.027425\n",
      "Train Epoch: 5 [36800/42000 (88%)]\tLoss: 0.303999\n",
      "Train Epoch: 5 [38400/42000 (91%)]\tLoss: 0.216291\n",
      "Train Epoch: 5 [40000/42000 (95%)]\tLoss: 0.003866\n",
      "Train Epoch: 5 [41600/42000 (99%)]\tLoss: 0.296313\n",
      "Train Epoch: 6 [0/42000 (0%)]\tLoss: 0.257112\n",
      "Train Epoch: 6 [1600/42000 (4%)]\tLoss: 0.175809\n",
      "Train Epoch: 6 [3200/42000 (8%)]\tLoss: 0.004807\n",
      "Train Epoch: 6 [4800/42000 (11%)]\tLoss: 0.011580\n",
      "Train Epoch: 6 [6400/42000 (15%)]\tLoss: 0.045662\n",
      "Train Epoch: 6 [8000/42000 (19%)]\tLoss: 0.050058\n",
      "Train Epoch: 6 [9600/42000 (23%)]\tLoss: 0.001649\n",
      "Train Epoch: 6 [11200/42000 (27%)]\tLoss: 0.058111\n",
      "Train Epoch: 6 [12800/42000 (30%)]\tLoss: 0.133787\n",
      "Train Epoch: 6 [14400/42000 (34%)]\tLoss: 0.010711\n",
      "Train Epoch: 6 [16000/42000 (38%)]\tLoss: 0.032771\n",
      "Train Epoch: 6 [17600/42000 (42%)]\tLoss: 0.070709\n",
      "Train Epoch: 6 [19200/42000 (46%)]\tLoss: 0.050350\n",
      "Train Epoch: 6 [20800/42000 (50%)]\tLoss: 0.006656\n",
      "Train Epoch: 6 [22400/42000 (53%)]\tLoss: 0.003983\n",
      "Train Epoch: 6 [24000/42000 (57%)]\tLoss: 0.420038\n",
      "Train Epoch: 6 [25600/42000 (61%)]\tLoss: 0.051421\n",
      "Train Epoch: 6 [27200/42000 (65%)]\tLoss: 0.003510\n",
      "Train Epoch: 6 [28800/42000 (69%)]\tLoss: 0.027647\n",
      "Train Epoch: 6 [30400/42000 (72%)]\tLoss: 0.098704\n",
      "Train Epoch: 6 [32000/42000 (76%)]\tLoss: 0.074253\n",
      "Train Epoch: 6 [33600/42000 (80%)]\tLoss: 0.122233\n",
      "Train Epoch: 6 [35200/42000 (84%)]\tLoss: 0.131010\n",
      "Train Epoch: 6 [36800/42000 (88%)]\tLoss: 0.017872\n",
      "Train Epoch: 6 [38400/42000 (91%)]\tLoss: 0.296257\n",
      "Train Epoch: 6 [40000/42000 (95%)]\tLoss: 0.055304\n",
      "Train Epoch: 6 [41600/42000 (99%)]\tLoss: 0.231430\n",
      "Train Epoch: 7 [0/42000 (0%)]\tLoss: 0.552115\n",
      "Train Epoch: 7 [1600/42000 (4%)]\tLoss: 0.338999\n",
      "Train Epoch: 7 [3200/42000 (8%)]\tLoss: 0.029565\n",
      "Train Epoch: 7 [4800/42000 (11%)]\tLoss: 0.044277\n",
      "Train Epoch: 7 [6400/42000 (15%)]\tLoss: 0.118487\n",
      "Train Epoch: 7 [8000/42000 (19%)]\tLoss: 0.002281\n",
      "Train Epoch: 7 [9600/42000 (23%)]\tLoss: 0.196246\n",
      "Train Epoch: 7 [11200/42000 (27%)]\tLoss: 0.037416\n",
      "Train Epoch: 7 [12800/42000 (30%)]\tLoss: 0.296072\n",
      "Train Epoch: 7 [14400/42000 (34%)]\tLoss: 0.036473\n",
      "Train Epoch: 7 [16000/42000 (38%)]\tLoss: 0.006667\n",
      "Train Epoch: 7 [17600/42000 (42%)]\tLoss: 0.231505\n",
      "Train Epoch: 7 [19200/42000 (46%)]\tLoss: 0.024719\n",
      "Train Epoch: 7 [20800/42000 (50%)]\tLoss: 0.742941\n",
      "Train Epoch: 7 [22400/42000 (53%)]\tLoss: 0.250934\n",
      "Train Epoch: 7 [24000/42000 (57%)]\tLoss: 0.002530\n",
      "Train Epoch: 7 [25600/42000 (61%)]\tLoss: 0.141482\n",
      "Train Epoch: 7 [27200/42000 (65%)]\tLoss: 0.039987\n",
      "Train Epoch: 7 [28800/42000 (69%)]\tLoss: 0.178703\n",
      "Train Epoch: 7 [30400/42000 (72%)]\tLoss: 0.395009\n",
      "Train Epoch: 7 [32000/42000 (76%)]\tLoss: 0.066941\n",
      "Train Epoch: 7 [33600/42000 (80%)]\tLoss: 0.002843\n",
      "Train Epoch: 7 [35200/42000 (84%)]\tLoss: 0.098649\n",
      "Train Epoch: 7 [36800/42000 (88%)]\tLoss: 0.175196\n",
      "Train Epoch: 7 [38400/42000 (91%)]\tLoss: 0.008727\n",
      "Train Epoch: 7 [40000/42000 (95%)]\tLoss: 0.255004\n",
      "Train Epoch: 7 [41600/42000 (99%)]\tLoss: 0.026682\n",
      "Train Epoch: 8 [0/42000 (0%)]\tLoss: 0.008718\n",
      "Train Epoch: 8 [1600/42000 (4%)]\tLoss: 0.210170\n",
      "Train Epoch: 8 [3200/42000 (8%)]\tLoss: 0.031514\n",
      "Train Epoch: 8 [4800/42000 (11%)]\tLoss: 0.028773\n",
      "Train Epoch: 8 [6400/42000 (15%)]\tLoss: 0.715781\n",
      "Train Epoch: 8 [8000/42000 (19%)]\tLoss: 0.114896\n",
      "Train Epoch: 8 [9600/42000 (23%)]\tLoss: 0.229284\n",
      "Train Epoch: 8 [11200/42000 (27%)]\tLoss: 0.092906\n",
      "Train Epoch: 8 [12800/42000 (30%)]\tLoss: 0.031723\n",
      "Train Epoch: 8 [14400/42000 (34%)]\tLoss: 0.047793\n",
      "Train Epoch: 8 [16000/42000 (38%)]\tLoss: 0.110401\n",
      "Train Epoch: 8 [17600/42000 (42%)]\tLoss: 0.530947\n",
      "Train Epoch: 8 [19200/42000 (46%)]\tLoss: 0.147046\n",
      "Train Epoch: 8 [20800/42000 (50%)]\tLoss: 0.017090\n",
      "Train Epoch: 8 [22400/42000 (53%)]\tLoss: 0.074414\n",
      "Train Epoch: 8 [24000/42000 (57%)]\tLoss: 0.060008\n",
      "Train Epoch: 8 [25600/42000 (61%)]\tLoss: 0.967795\n",
      "Train Epoch: 8 [27200/42000 (65%)]\tLoss: 0.005541\n",
      "Train Epoch: 8 [28800/42000 (69%)]\tLoss: 0.272493\n",
      "Train Epoch: 8 [30400/42000 (72%)]\tLoss: 0.081344\n",
      "Train Epoch: 8 [32000/42000 (76%)]\tLoss: 0.092735\n",
      "Train Epoch: 8 [33600/42000 (80%)]\tLoss: 0.012736\n",
      "Train Epoch: 8 [35200/42000 (84%)]\tLoss: 0.018521\n",
      "Train Epoch: 8 [36800/42000 (88%)]\tLoss: 0.357553\n",
      "Train Epoch: 8 [38400/42000 (91%)]\tLoss: 0.002462\n",
      "Train Epoch: 8 [40000/42000 (95%)]\tLoss: 0.422700\n",
      "Train Epoch: 8 [41600/42000 (99%)]\tLoss: 0.219611\n",
      "Train Epoch: 9 [0/42000 (0%)]\tLoss: 0.005550\n",
      "Train Epoch: 9 [1600/42000 (4%)]\tLoss: 0.014829\n",
      "Train Epoch: 9 [3200/42000 (8%)]\tLoss: 0.209942\n",
      "Train Epoch: 9 [4800/42000 (11%)]\tLoss: 0.052439\n",
      "Train Epoch: 9 [6400/42000 (15%)]\tLoss: 0.143044\n",
      "Train Epoch: 9 [8000/42000 (19%)]\tLoss: 0.027426\n",
      "Train Epoch: 9 [9600/42000 (23%)]\tLoss: 0.438274\n",
      "Train Epoch: 9 [11200/42000 (27%)]\tLoss: 0.041808\n",
      "Train Epoch: 9 [12800/42000 (30%)]\tLoss: 0.066259\n",
      "Train Epoch: 9 [14400/42000 (34%)]\tLoss: 0.174863\n",
      "Train Epoch: 9 [16000/42000 (38%)]\tLoss: 0.029135\n",
      "Train Epoch: 9 [17600/42000 (42%)]\tLoss: 0.010298\n",
      "Train Epoch: 9 [19200/42000 (46%)]\tLoss: 0.022076\n",
      "Train Epoch: 9 [20800/42000 (50%)]\tLoss: 0.351796\n",
      "Train Epoch: 9 [22400/42000 (53%)]\tLoss: 0.061134\n",
      "Train Epoch: 9 [24000/42000 (57%)]\tLoss: 0.118848\n",
      "Train Epoch: 9 [25600/42000 (61%)]\tLoss: 0.292277\n",
      "Train Epoch: 9 [27200/42000 (65%)]\tLoss: 0.013426\n",
      "Train Epoch: 9 [28800/42000 (69%)]\tLoss: 0.007570\n",
      "Train Epoch: 9 [30400/42000 (72%)]\tLoss: 0.309599\n",
      "Train Epoch: 9 [32000/42000 (76%)]\tLoss: 0.032726\n",
      "Train Epoch: 9 [33600/42000 (80%)]\tLoss: 0.074539\n",
      "Train Epoch: 9 [35200/42000 (84%)]\tLoss: 0.052856\n",
      "Train Epoch: 9 [36800/42000 (88%)]\tLoss: 0.052708\n",
      "Train Epoch: 9 [38400/42000 (91%)]\tLoss: 0.054121\n",
      "Train Epoch: 9 [40000/42000 (95%)]\tLoss: 0.164542\n",
      "Train Epoch: 9 [41600/42000 (99%)]\tLoss: 0.272668\n",
      "Train Epoch: 10 [0/42000 (0%)]\tLoss: 0.039324\n",
      "Train Epoch: 10 [1600/42000 (4%)]\tLoss: 0.087119\n",
      "Train Epoch: 10 [3200/42000 (8%)]\tLoss: 0.121751\n",
      "Train Epoch: 10 [4800/42000 (11%)]\tLoss: 0.027562\n",
      "Train Epoch: 10 [6400/42000 (15%)]\tLoss: 0.085182\n",
      "Train Epoch: 10 [8000/42000 (19%)]\tLoss: 0.109972\n",
      "Train Epoch: 10 [9600/42000 (23%)]\tLoss: 0.068260\n",
      "Train Epoch: 10 [11200/42000 (27%)]\tLoss: 0.010324\n",
      "Train Epoch: 10 [12800/42000 (30%)]\tLoss: 0.094336\n",
      "Train Epoch: 10 [14400/42000 (34%)]\tLoss: 0.069900\n",
      "Train Epoch: 10 [16000/42000 (38%)]\tLoss: 0.092400\n",
      "Train Epoch: 10 [17600/42000 (42%)]\tLoss: 0.018046\n",
      "Train Epoch: 10 [19200/42000 (46%)]\tLoss: 0.507439\n",
      "Train Epoch: 10 [20800/42000 (50%)]\tLoss: 0.002540\n",
      "Train Epoch: 10 [22400/42000 (53%)]\tLoss: 0.003201\n",
      "Train Epoch: 10 [24000/42000 (57%)]\tLoss: 0.099009\n",
      "Train Epoch: 10 [25600/42000 (61%)]\tLoss: 0.013176\n",
      "Train Epoch: 10 [27200/42000 (65%)]\tLoss: 0.009165\n",
      "Train Epoch: 10 [28800/42000 (69%)]\tLoss: 0.013536\n",
      "Train Epoch: 10 [30400/42000 (72%)]\tLoss: 0.394481\n",
      "Train Epoch: 10 [32000/42000 (76%)]\tLoss: 0.097279\n",
      "Train Epoch: 10 [33600/42000 (80%)]\tLoss: 0.197002\n",
      "Train Epoch: 10 [35200/42000 (84%)]\tLoss: 0.673349\n",
      "Train Epoch: 10 [36800/42000 (88%)]\tLoss: 0.010109\n",
      "Train Epoch: 10 [38400/42000 (91%)]\tLoss: 0.005184\n",
      "Train Epoch: 10 [40000/42000 (95%)]\tLoss: 0.104236\n",
      "Train Epoch: 10 [41600/42000 (99%)]\tLoss: 0.003460\n"
     ]
    }
   ],
   "source": [
    "for epoch in range(1,n_epochs+1):\n",
    "    train(epoch)"
   ]
  },
  {
   "cell_type": "code",
   "execution_count": 18,
   "id": "794e9338",
   "metadata": {
    "execution": {
     "iopub.execute_input": "2024-11-12T23:22:56.149048Z",
     "iopub.status.busy": "2024-11-12T23:22:56.148705Z",
     "iopub.status.idle": "2024-11-12T23:22:56.378141Z",
     "shell.execute_reply": "2024-11-12T23:22:56.377294Z"
    },
    "papermill": {
     "duration": 0.258934,
     "end_time": "2024-11-12T23:22:56.380339",
     "exception": false,
     "start_time": "2024-11-12T23:22:56.121405",
     "status": "completed"
    },
    "tags": []
   },
   "outputs": [
    {
     "data": {
      "text/plain": [
       "Text(0, 0.5, 'negative log likelihood loss')"
      ]
     },
     "execution_count": 18,
     "metadata": {},
     "output_type": "execute_result"
    },
    {
     "data": {
      "image/png": "[encoded data removed]",
      "text/plain": [
       "<Figure size 640x480 with 1 Axes>"
      ]
     },
     "metadata": {},
     "output_type": "display_data"
    }
   ],
   "source": [
    "fig = plt.figure()\n",
    "plt.plot(train_counter, train_losses, color='blue')\n",
    "plt.legend(['Train Loss'], loc='upper right')\n",
    "plt.xlabel('number of training examples seen')\n",
    "plt.ylabel('negative log likelihood loss')"
   ]
  },
  {
   "cell_type": "code",
   "execution_count": 19,
   "id": "0e5fe863",
   "metadata": {
    "execution": {
     "iopub.execute_input": "2024-11-12T23:22:56.435672Z",
     "iopub.status.busy": "2024-11-12T23:22:56.435360Z",
     "iopub.status.idle": "2024-11-12T23:22:58.466561Z",
     "shell.execute_reply": "2024-11-12T23:22:58.465570Z"
    },
    "papermill": {
     "duration": 2.061609,
     "end_time": "2024-11-12T23:22:58.469351",
     "exception": false,
     "start_time": "2024-11-12T23:22:56.407742",
     "status": "completed"
    },
    "tags": []
   },
   "outputs": [],
   "source": [
    "test_labels = [torch.argmax(d) for d in network(test_data)]"
   ]
  },
  {
   "cell_type": "code",
   "execution_count": 20,
   "id": "4eda310a",
   "metadata": {
    "execution": {
     "iopub.execute_input": "2024-11-12T23:22:58.530094Z",
     "iopub.status.busy": "2024-11-12T23:22:58.529259Z",
     "iopub.status.idle": "2024-11-12T23:22:59.850711Z",
     "shell.execute_reply": "2024-11-12T23:22:59.849774Z"
    },
    "papermill": {
     "duration": 1.351445,
     "end_time": "2024-11-12T23:22:59.852818",
     "exception": false,
     "start_time": "2024-11-12T23:22:58.501373",
     "status": "completed"
    },
    "tags": []
   },
   "outputs": [
    {
     "data": {
      "image/png": "[encoded data removed]",
      "text/plain": [
       "<Figure size 640x480 with 10 Axes>"
      ]
     },
     "metadata": {},
     "output_type": "display_data"
    }
   ],
   "source": [
    "image_grid(test_data[10:20], test_labels[10:20])"
   ]
  },
  {
   "cell_type": "code",
   "execution_count": 21,
   "id": "5b5eef61",
   "metadata": {
    "execution": {
     "iopub.execute_input": "2024-11-12T23:22:59.908455Z",
     "iopub.status.busy": "2024-11-12T23:22:59.908122Z",
     "iopub.status.idle": "2024-11-12T23:23:00.452768Z",
     "shell.execute_reply": "2024-11-12T23:23:00.451951Z"
    },
    "papermill": {
     "duration": 0.575007,
     "end_time": "2024-11-12T23:23:00.455061",
     "exception": false,
     "start_time": "2024-11-12T23:22:59.880054",
     "status": "completed"
    },
    "tags": []
   },
   "outputs": [],
   "source": [
    "result = pd.DataFrame([[idx +1, l.cpu().item()] for idx, l in enumerate(test_labels)])\n",
    "result.to_csv('/kaggle/working/result.csv', index=False)  "
   ]
  },
  {
   "cell_type": "code",
   "execution_count": null,
   "id": "a83d7690",
   "metadata": {
    "papermill": {
     "duration": 0.026995,
     "end_time": "2024-11-12T23:23:00.509703",
     "exception": false,
     "start_time": "2024-11-12T23:23:00.482708",
     "status": "completed"
    },
    "tags": []
   },
   "outputs": [],
   "source": []
  }
 ],
 "metadata": {
  "kaggle": {
   "accelerator": "none",
   "dataSources": [
    {
     "databundleVersionId": 861823,
     "sourceId": 3004,
     "sourceType": "competition"
    }
   ],
   "dockerImageVersionId": 30786,
   "isGpuEnabled": false,
   "isInternetEnabled": true,
   "language": "python",
   "sourceType": "notebook"
  },
  "kernelspec": {
   "display_name": "Python 3",
   "language": "python",
   "name": "python3"
  },
  "language_info": {
   "codemirror_mode": {
    "name": "ipython",
    "version": 3
   },
   "file_extension": ".py",
   "mimetype": "text/x-python",
   "name": "python",
   "nbconvert_exporter": "python",
   "pygments_lexer": "ipython3",
   "version": "3.10.14"
  },
  "papermill": {
   "default_parameters": {},
   "duration": 122.71465,
   "end_time": "2024-11-12T23:23:01.859626",
   "environment_variables": {},
   "exception": null,
   "input_path": "__notebook__.ipynb",
   "output_path": "__notebook__.ipynb",
   "parameters": {},
   "start_time": "2024-11-12T23:20:59.144976",
   "version": "2.6.0"
  }
 },
 "nbformat": 4,
 "nbformat_minor": 5
}
